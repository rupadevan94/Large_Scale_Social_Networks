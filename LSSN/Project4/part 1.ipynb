{
 "cells": [
  {
   "cell_type": "code",
   "execution_count": 1,
   "metadata": {},
   "outputs": [],
   "source": [
    "import numpy as np\n",
    "import pandas as pd"
   ]
  },
  {
   "cell_type": "code",
   "execution_count": 4,
   "metadata": {},
   "outputs": [],
   "source": [
    "sample_stocks =  pd.read_csv(r\".\\finance_data\\data\\A.csv\")"
   ]
  },
  {
   "cell_type": "code",
   "execution_count": 5,
   "metadata": {},
   "outputs": [
    {
     "name": "stdout",
     "output_type": "stream",
     "text": [
      "765\n"
     ]
    }
   ],
   "source": [
    "print(len(sample_stocks['Date']))"
   ]
  },
  {
   "cell_type": "code",
   "execution_count": 6,
   "metadata": {},
   "outputs": [],
   "source": [
    "import glob\n",
    "all_files = glob.glob(r\".\\finance_data\\data\\*.csv\")"
   ]
  },
  {
   "cell_type": "code",
   "execution_count": 7,
   "metadata": {},
   "outputs": [
    {
     "name": "stdout",
     "output_type": "stream",
     "text": [
      "['.\\\\finance_data\\\\data\\\\A.csv', '.\\\\finance_data\\\\data\\\\AAL.csv', '.\\\\finance_data\\\\data\\\\AAP.csv', '.\\\\finance_data\\\\data\\\\AAPL.csv', '.\\\\finance_data\\\\data\\\\ABBV.csv', '.\\\\finance_data\\\\data\\\\ABC.csv', '.\\\\finance_data\\\\data\\\\ABT.csv', '.\\\\finance_data\\\\data\\\\ACN.csv', '.\\\\finance_data\\\\data\\\\ADBE.csv', '.\\\\finance_data\\\\data\\\\ADI.csv', '.\\\\finance_data\\\\data\\\\ADM.csv', '.\\\\finance_data\\\\data\\\\ADP.csv', '.\\\\finance_data\\\\data\\\\ADS.csv', '.\\\\finance_data\\\\data\\\\ADSK.csv', '.\\\\finance_data\\\\data\\\\AEE.csv', '.\\\\finance_data\\\\data\\\\AEP.csv', '.\\\\finance_data\\\\data\\\\AES.csv', '.\\\\finance_data\\\\data\\\\AET.csv', '.\\\\finance_data\\\\data\\\\AFL.csv', '.\\\\finance_data\\\\data\\\\AGN.csv', '.\\\\finance_data\\\\data\\\\AIG.csv', '.\\\\finance_data\\\\data\\\\AIV.csv', '.\\\\finance_data\\\\data\\\\AIZ.csv', '.\\\\finance_data\\\\data\\\\AJG.csv', '.\\\\finance_data\\\\data\\\\AKAM.csv', '.\\\\finance_data\\\\data\\\\ALB.csv', '.\\\\finance_data\\\\data\\\\ALK.csv', '.\\\\finance_data\\\\data\\\\ALL.csv', '.\\\\finance_data\\\\data\\\\ALLE.csv', '.\\\\finance_data\\\\data\\\\ALXN.csv', '.\\\\finance_data\\\\data\\\\AMAT.csv', '.\\\\finance_data\\\\data\\\\AMD.csv', '.\\\\finance_data\\\\data\\\\AME.csv', '.\\\\finance_data\\\\data\\\\AMG.csv', '.\\\\finance_data\\\\data\\\\AMGN.csv', '.\\\\finance_data\\\\data\\\\AMP.csv', '.\\\\finance_data\\\\data\\\\AMT.csv', '.\\\\finance_data\\\\data\\\\AMZN.csv', '.\\\\finance_data\\\\data\\\\AN.csv', '.\\\\finance_data\\\\data\\\\ANTM.csv', '.\\\\finance_data\\\\data\\\\AON.csv', '.\\\\finance_data\\\\data\\\\APA.csv', '.\\\\finance_data\\\\data\\\\APC.csv', '.\\\\finance_data\\\\data\\\\APD.csv', '.\\\\finance_data\\\\data\\\\APH.csv', '.\\\\finance_data\\\\data\\\\ARE.csv', '.\\\\finance_data\\\\data\\\\ARNC.csv', '.\\\\finance_data\\\\data\\\\ATVI.csv', '.\\\\finance_data\\\\data\\\\AVB.csv', '.\\\\finance_data\\\\data\\\\AVGO.csv', '.\\\\finance_data\\\\data\\\\AVY.csv', '.\\\\finance_data\\\\data\\\\AWK.csv', '.\\\\finance_data\\\\data\\\\AXP.csv', '.\\\\finance_data\\\\data\\\\AYI.csv', '.\\\\finance_data\\\\data\\\\AZO.csv', '.\\\\finance_data\\\\data\\\\BA.csv', '.\\\\finance_data\\\\data\\\\BAC.csv', '.\\\\finance_data\\\\data\\\\BAX.csv', '.\\\\finance_data\\\\data\\\\BBBY.csv', '.\\\\finance_data\\\\data\\\\BBT.csv', '.\\\\finance_data\\\\data\\\\BBY.csv', '.\\\\finance_data\\\\data\\\\BCR.csv', '.\\\\finance_data\\\\data\\\\BDX.csv', '.\\\\finance_data\\\\data\\\\BEN.csv', '.\\\\finance_data\\\\data\\\\BF.B.csv', '.\\\\finance_data\\\\data\\\\BHI.csv', '.\\\\finance_data\\\\data\\\\BIIB.csv', '.\\\\finance_data\\\\data\\\\BK.csv', '.\\\\finance_data\\\\data\\\\BLK.csv', '.\\\\finance_data\\\\data\\\\BLL.csv', '.\\\\finance_data\\\\data\\\\BMY.csv', '.\\\\finance_data\\\\data\\\\BRK.B.csv', '.\\\\finance_data\\\\data\\\\BSX.csv', '.\\\\finance_data\\\\data\\\\BWA.csv', '.\\\\finance_data\\\\data\\\\BXP.csv', '.\\\\finance_data\\\\data\\\\C.csv', '.\\\\finance_data\\\\data\\\\CA.csv', '.\\\\finance_data\\\\data\\\\CAG.csv', '.\\\\finance_data\\\\data\\\\CAH.csv', '.\\\\finance_data\\\\data\\\\CAT.csv', '.\\\\finance_data\\\\data\\\\CB.csv', '.\\\\finance_data\\\\data\\\\CBG.csv', '.\\\\finance_data\\\\data\\\\CBOE.csv', '.\\\\finance_data\\\\data\\\\CBS.csv', '.\\\\finance_data\\\\data\\\\CCI.csv', '.\\\\finance_data\\\\data\\\\CCL.csv', '.\\\\finance_data\\\\data\\\\CELG.csv', '.\\\\finance_data\\\\data\\\\CERN.csv', '.\\\\finance_data\\\\data\\\\CF.csv', '.\\\\finance_data\\\\data\\\\CFG.csv', '.\\\\finance_data\\\\data\\\\CHD.csv', '.\\\\finance_data\\\\data\\\\CHK.csv', '.\\\\finance_data\\\\data\\\\CHRW.csv', '.\\\\finance_data\\\\data\\\\CHTR.csv', '.\\\\finance_data\\\\data\\\\CI.csv', '.\\\\finance_data\\\\data\\\\CINF.csv', '.\\\\finance_data\\\\data\\\\CL.csv', '.\\\\finance_data\\\\data\\\\CLX.csv', '.\\\\finance_data\\\\data\\\\CMA.csv', '.\\\\finance_data\\\\data\\\\CMCSA.csv', '.\\\\finance_data\\\\data\\\\CME.csv', '.\\\\finance_data\\\\data\\\\CMG.csv', '.\\\\finance_data\\\\data\\\\CMI.csv', '.\\\\finance_data\\\\data\\\\CMS.csv', '.\\\\finance_data\\\\data\\\\CNC.csv', '.\\\\finance_data\\\\data\\\\CNP.csv', '.\\\\finance_data\\\\data\\\\COF.csv', '.\\\\finance_data\\\\data\\\\COG.csv', '.\\\\finance_data\\\\data\\\\COH.csv', '.\\\\finance_data\\\\data\\\\COL.csv', '.\\\\finance_data\\\\data\\\\COO.csv', '.\\\\finance_data\\\\data\\\\COP.csv', '.\\\\finance_data\\\\data\\\\COST.csv', '.\\\\finance_data\\\\data\\\\COTY.csv', '.\\\\finance_data\\\\data\\\\CPB.csv', '.\\\\finance_data\\\\data\\\\CRM.csv', '.\\\\finance_data\\\\data\\\\CSCO.csv', '.\\\\finance_data\\\\data\\\\CSRA.csv', '.\\\\finance_data\\\\data\\\\CSX.csv', '.\\\\finance_data\\\\data\\\\CTAS.csv', '.\\\\finance_data\\\\data\\\\CTL.csv', '.\\\\finance_data\\\\data\\\\CTSH.csv', '.\\\\finance_data\\\\data\\\\CTXS.csv', '.\\\\finance_data\\\\data\\\\CVS.csv', '.\\\\finance_data\\\\data\\\\CVX.csv', '.\\\\finance_data\\\\data\\\\CXO.csv', '.\\\\finance_data\\\\data\\\\D.csv', '.\\\\finance_data\\\\data\\\\DAL.csv', '.\\\\finance_data\\\\data\\\\DD.csv', '.\\\\finance_data\\\\data\\\\DE.csv', '.\\\\finance_data\\\\data\\\\DFS.csv', '.\\\\finance_data\\\\data\\\\DG.csv', '.\\\\finance_data\\\\data\\\\DGX.csv', '.\\\\finance_data\\\\data\\\\DHI.csv', '.\\\\finance_data\\\\data\\\\DHR.csv', '.\\\\finance_data\\\\data\\\\DIS.csv', '.\\\\finance_data\\\\data\\\\DISCA.csv', '.\\\\finance_data\\\\data\\\\DISCK.csv', '.\\\\finance_data\\\\data\\\\DISH.csv', '.\\\\finance_data\\\\data\\\\DLPH.csv', '.\\\\finance_data\\\\data\\\\DLR.csv', '.\\\\finance_data\\\\data\\\\DLTR.csv', '.\\\\finance_data\\\\data\\\\DOV.csv', '.\\\\finance_data\\\\data\\\\DOW.csv', '.\\\\finance_data\\\\data\\\\DPS.csv', '.\\\\finance_data\\\\data\\\\DRI.csv', '.\\\\finance_data\\\\data\\\\DTE.csv', '.\\\\finance_data\\\\data\\\\DUK.csv', '.\\\\finance_data\\\\data\\\\DVA.csv', '.\\\\finance_data\\\\data\\\\DVN.csv', '.\\\\finance_data\\\\data\\\\DXC.csv', '.\\\\finance_data\\\\data\\\\EA.csv', '.\\\\finance_data\\\\data\\\\EBAY.csv', '.\\\\finance_data\\\\data\\\\ECL.csv', '.\\\\finance_data\\\\data\\\\ED.csv', '.\\\\finance_data\\\\data\\\\EFX.csv', '.\\\\finance_data\\\\data\\\\EIX.csv', '.\\\\finance_data\\\\data\\\\EL.csv', '.\\\\finance_data\\\\data\\\\EMN.csv', '.\\\\finance_data\\\\data\\\\EMR.csv', '.\\\\finance_data\\\\data\\\\EOG.csv', '.\\\\finance_data\\\\data\\\\EQIX.csv', '.\\\\finance_data\\\\data\\\\EQR.csv', '.\\\\finance_data\\\\data\\\\EQT.csv', '.\\\\finance_data\\\\data\\\\ES.csv', '.\\\\finance_data\\\\data\\\\ESRX.csv', '.\\\\finance_data\\\\data\\\\ESS.csv', '.\\\\finance_data\\\\data\\\\ETFC.csv', '.\\\\finance_data\\\\data\\\\ETN.csv', '.\\\\finance_data\\\\data\\\\ETR.csv', '.\\\\finance_data\\\\data\\\\EVHC.csv', '.\\\\finance_data\\\\data\\\\EW.csv', '.\\\\finance_data\\\\data\\\\EXC.csv', '.\\\\finance_data\\\\data\\\\EXPD.csv', '.\\\\finance_data\\\\data\\\\EXPE.csv', '.\\\\finance_data\\\\data\\\\EXR.csv', '.\\\\finance_data\\\\data\\\\F.csv', '.\\\\finance_data\\\\data\\\\FAST.csv', '.\\\\finance_data\\\\data\\\\FB.csv', '.\\\\finance_data\\\\data\\\\FBHS.csv', '.\\\\finance_data\\\\data\\\\FCX.csv', '.\\\\finance_data\\\\data\\\\FDX.csv', '.\\\\finance_data\\\\data\\\\FE.csv', '.\\\\finance_data\\\\data\\\\FFIV.csv', '.\\\\finance_data\\\\data\\\\FIS.csv', '.\\\\finance_data\\\\data\\\\FISV.csv', '.\\\\finance_data\\\\data\\\\FITB.csv', '.\\\\finance_data\\\\data\\\\FL.csv', '.\\\\finance_data\\\\data\\\\FLIR.csv', '.\\\\finance_data\\\\data\\\\FLR.csv', '.\\\\finance_data\\\\data\\\\FLS.csv', '.\\\\finance_data\\\\data\\\\FMC.csv', '.\\\\finance_data\\\\data\\\\FOX.csv', '.\\\\finance_data\\\\data\\\\FOXA.csv', '.\\\\finance_data\\\\data\\\\FRT.csv', '.\\\\finance_data\\\\data\\\\FTI.csv', '.\\\\finance_data\\\\data\\\\FTV.csv', '.\\\\finance_data\\\\data\\\\GD.csv', '.\\\\finance_data\\\\data\\\\GE.csv', '.\\\\finance_data\\\\data\\\\GGP.csv', '.\\\\finance_data\\\\data\\\\GILD.csv', '.\\\\finance_data\\\\data\\\\GIS.csv', '.\\\\finance_data\\\\data\\\\GLW.csv', '.\\\\finance_data\\\\data\\\\GM.csv', '.\\\\finance_data\\\\data\\\\GOOG.csv', '.\\\\finance_data\\\\data\\\\GOOGL.csv', '.\\\\finance_data\\\\data\\\\GPC.csv', '.\\\\finance_data\\\\data\\\\GPN.csv', '.\\\\finance_data\\\\data\\\\GPS.csv', '.\\\\finance_data\\\\data\\\\GRMN.csv', '.\\\\finance_data\\\\data\\\\GS.csv', '.\\\\finance_data\\\\data\\\\GT.csv', '.\\\\finance_data\\\\data\\\\GWW.csv', '.\\\\finance_data\\\\data\\\\HAL.csv', '.\\\\finance_data\\\\data\\\\HAS.csv', '.\\\\finance_data\\\\data\\\\HBAN.csv', '.\\\\finance_data\\\\data\\\\HBI.csv', '.\\\\finance_data\\\\data\\\\HCA.csv', '.\\\\finance_data\\\\data\\\\HCN.csv', '.\\\\finance_data\\\\data\\\\HCP.csv', '.\\\\finance_data\\\\data\\\\HD.csv', '.\\\\finance_data\\\\data\\\\HES.csv', '.\\\\finance_data\\\\data\\\\HIG.csv', '.\\\\finance_data\\\\data\\\\HOG.csv', '.\\\\finance_data\\\\data\\\\HOLX.csv', '.\\\\finance_data\\\\data\\\\HON.csv', '.\\\\finance_data\\\\data\\\\HP.csv', '.\\\\finance_data\\\\data\\\\HPE.csv', '.\\\\finance_data\\\\data\\\\HPQ.csv', '.\\\\finance_data\\\\data\\\\HRB.csv', '.\\\\finance_data\\\\data\\\\HRL.csv', '.\\\\finance_data\\\\data\\\\HRS.csv', '.\\\\finance_data\\\\data\\\\HSIC.csv', '.\\\\finance_data\\\\data\\\\HST.csv', '.\\\\finance_data\\\\data\\\\HSY.csv', '.\\\\finance_data\\\\data\\\\HUM.csv', '.\\\\finance_data\\\\data\\\\IBM.csv', '.\\\\finance_data\\\\data\\\\ICE.csv', '.\\\\finance_data\\\\data\\\\IDXX.csv', '.\\\\finance_data\\\\data\\\\IFF.csv', '.\\\\finance_data\\\\data\\\\ILMN.csv', '.\\\\finance_data\\\\data\\\\INCY.csv', '.\\\\finance_data\\\\data\\\\INTC.csv', '.\\\\finance_data\\\\data\\\\INTU.csv', '.\\\\finance_data\\\\data\\\\IP.csv', '.\\\\finance_data\\\\data\\\\IPG.csv', '.\\\\finance_data\\\\data\\\\IR.csv', '.\\\\finance_data\\\\data\\\\IRM.csv', '.\\\\finance_data\\\\data\\\\ISRG.csv', '.\\\\finance_data\\\\data\\\\IT.csv', '.\\\\finance_data\\\\data\\\\ITW.csv', '.\\\\finance_data\\\\data\\\\IVZ.csv', '.\\\\finance_data\\\\data\\\\JBHT.csv', '.\\\\finance_data\\\\data\\\\JCI.csv', '.\\\\finance_data\\\\data\\\\JEC.csv', '.\\\\finance_data\\\\data\\\\JNJ.csv', '.\\\\finance_data\\\\data\\\\JNPR.csv', '.\\\\finance_data\\\\data\\\\JPM.csv', '.\\\\finance_data\\\\data\\\\JWN.csv', '.\\\\finance_data\\\\data\\\\K.csv', '.\\\\finance_data\\\\data\\\\KEY.csv', '.\\\\finance_data\\\\data\\\\KHC.csv', '.\\\\finance_data\\\\data\\\\KIM.csv', '.\\\\finance_data\\\\data\\\\KLAC.csv', '.\\\\finance_data\\\\data\\\\KMB.csv', '.\\\\finance_data\\\\data\\\\KMI.csv', '.\\\\finance_data\\\\data\\\\KMX.csv', '.\\\\finance_data\\\\data\\\\KO.csv', '.\\\\finance_data\\\\data\\\\KORS.csv', '.\\\\finance_data\\\\data\\\\KR.csv', '.\\\\finance_data\\\\data\\\\KSS.csv', '.\\\\finance_data\\\\data\\\\KSU.csv', '.\\\\finance_data\\\\data\\\\L.csv', '.\\\\finance_data\\\\data\\\\LB.csv', '.\\\\finance_data\\\\data\\\\LEG.csv', '.\\\\finance_data\\\\data\\\\LEN.csv', '.\\\\finance_data\\\\data\\\\LH.csv', '.\\\\finance_data\\\\data\\\\LKQ.csv', '.\\\\finance_data\\\\data\\\\LLL.csv', '.\\\\finance_data\\\\data\\\\LLY.csv', '.\\\\finance_data\\\\data\\\\LMT.csv', '.\\\\finance_data\\\\data\\\\LNC.csv', '.\\\\finance_data\\\\data\\\\LNT.csv', '.\\\\finance_data\\\\data\\\\LOW.csv', '.\\\\finance_data\\\\data\\\\LRCX.csv', '.\\\\finance_data\\\\data\\\\LUK.csv', '.\\\\finance_data\\\\data\\\\LUV.csv', '.\\\\finance_data\\\\data\\\\LVLT.csv', '.\\\\finance_data\\\\data\\\\LYB.csv', '.\\\\finance_data\\\\data\\\\M.csv', '.\\\\finance_data\\\\data\\\\MA.csv', '.\\\\finance_data\\\\data\\\\MAA.csv', '.\\\\finance_data\\\\data\\\\MAC.csv', '.\\\\finance_data\\\\data\\\\MAR.csv', '.\\\\finance_data\\\\data\\\\MAS.csv', '.\\\\finance_data\\\\data\\\\MAT.csv', '.\\\\finance_data\\\\data\\\\MCD.csv', '.\\\\finance_data\\\\data\\\\MCHP.csv', '.\\\\finance_data\\\\data\\\\MCK.csv', '.\\\\finance_data\\\\data\\\\MCO.csv', '.\\\\finance_data\\\\data\\\\MDLZ.csv', '.\\\\finance_data\\\\data\\\\MDT.csv', '.\\\\finance_data\\\\data\\\\MET.csv', '.\\\\finance_data\\\\data\\\\MHK.csv', '.\\\\finance_data\\\\data\\\\MJN.csv', '.\\\\finance_data\\\\data\\\\MKC.csv', '.\\\\finance_data\\\\data\\\\MLM.csv', '.\\\\finance_data\\\\data\\\\MMC.csv', '.\\\\finance_data\\\\data\\\\MMM.csv', '.\\\\finance_data\\\\data\\\\MNK.csv', '.\\\\finance_data\\\\data\\\\MNST.csv', '.\\\\finance_data\\\\data\\\\MO.csv', '.\\\\finance_data\\\\data\\\\MON.csv', '.\\\\finance_data\\\\data\\\\MOS.csv', '.\\\\finance_data\\\\data\\\\MPC.csv', '.\\\\finance_data\\\\data\\\\MRK.csv', '.\\\\finance_data\\\\data\\\\MRO.csv', '.\\\\finance_data\\\\data\\\\MS.csv', '.\\\\finance_data\\\\data\\\\MSFT.csv', '.\\\\finance_data\\\\data\\\\MSI.csv', '.\\\\finance_data\\\\data\\\\MTB.csv', '.\\\\finance_data\\\\data\\\\MTD.csv', '.\\\\finance_data\\\\data\\\\MU.csv', '.\\\\finance_data\\\\data\\\\MUR.csv', '.\\\\finance_data\\\\data\\\\MYL.csv', '.\\\\finance_data\\\\data\\\\NAVI.csv', '.\\\\finance_data\\\\data\\\\NBL.csv', '.\\\\finance_data\\\\data\\\\NDAQ.csv', '.\\\\finance_data\\\\data\\\\NEE.csv', '.\\\\finance_data\\\\data\\\\NEM.csv', '.\\\\finance_data\\\\data\\\\NFLX.csv', '.\\\\finance_data\\\\data\\\\NFX.csv', '.\\\\finance_data\\\\data\\\\NI.csv', '.\\\\finance_data\\\\data\\\\NKE.csv', '.\\\\finance_data\\\\data\\\\NLSN.csv', '.\\\\finance_data\\\\data\\\\NOC.csv', '.\\\\finance_data\\\\data\\\\NOV.csv', '.\\\\finance_data\\\\data\\\\NRG.csv', '.\\\\finance_data\\\\data\\\\NSC.csv', '.\\\\finance_data\\\\data\\\\NTAP.csv', '.\\\\finance_data\\\\data\\\\NTRS.csv', '.\\\\finance_data\\\\data\\\\NUE.csv', '.\\\\finance_data\\\\data\\\\NVDA.csv', '.\\\\finance_data\\\\data\\\\NWL.csv', '.\\\\finance_data\\\\data\\\\NWS.csv', '.\\\\finance_data\\\\data\\\\NWSA.csv', '.\\\\finance_data\\\\data\\\\O.csv', '.\\\\finance_data\\\\data\\\\OKE.csv', '.\\\\finance_data\\\\data\\\\OMC.csv', '.\\\\finance_data\\\\data\\\\ORCL.csv', '.\\\\finance_data\\\\data\\\\ORLY.csv', '.\\\\finance_data\\\\data\\\\OXY.csv', '.\\\\finance_data\\\\data\\\\PAYX.csv', '.\\\\finance_data\\\\data\\\\PBCT.csv', '.\\\\finance_data\\\\data\\\\PCAR.csv', '.\\\\finance_data\\\\data\\\\PCG.csv', '.\\\\finance_data\\\\data\\\\PCLN.csv', '.\\\\finance_data\\\\data\\\\PDCO.csv', '.\\\\finance_data\\\\data\\\\PEG.csv', '.\\\\finance_data\\\\data\\\\PEP.csv', '.\\\\finance_data\\\\data\\\\PFE.csv', '.\\\\finance_data\\\\data\\\\PFG.csv', '.\\\\finance_data\\\\data\\\\PG.csv', '.\\\\finance_data\\\\data\\\\PGR.csv', '.\\\\finance_data\\\\data\\\\PH.csv', '.\\\\finance_data\\\\data\\\\PHM.csv', '.\\\\finance_data\\\\data\\\\PKI.csv', '.\\\\finance_data\\\\data\\\\PLD.csv', '.\\\\finance_data\\\\data\\\\PM.csv', '.\\\\finance_data\\\\data\\\\PNC.csv', '.\\\\finance_data\\\\data\\\\PNR.csv', '.\\\\finance_data\\\\data\\\\PNW.csv', '.\\\\finance_data\\\\data\\\\PPG.csv', '.\\\\finance_data\\\\data\\\\PPL.csv', '.\\\\finance_data\\\\data\\\\PRGO.csv', '.\\\\finance_data\\\\data\\\\PRU.csv', '.\\\\finance_data\\\\data\\\\PSA.csv', '.\\\\finance_data\\\\data\\\\PSX.csv', '.\\\\finance_data\\\\data\\\\PVH.csv', '.\\\\finance_data\\\\data\\\\PWR.csv', '.\\\\finance_data\\\\data\\\\PX.csv', '.\\\\finance_data\\\\data\\\\PXD.csv', '.\\\\finance_data\\\\data\\\\PYPL.csv', '.\\\\finance_data\\\\data\\\\QCOM.csv', '.\\\\finance_data\\\\data\\\\QRVO.csv', '.\\\\finance_data\\\\data\\\\R.csv', '.\\\\finance_data\\\\data\\\\RAI.csv', '.\\\\finance_data\\\\data\\\\RCL.csv', '.\\\\finance_data\\\\data\\\\REG.csv', '.\\\\finance_data\\\\data\\\\REGN.csv', '.\\\\finance_data\\\\data\\\\RF.csv', '.\\\\finance_data\\\\data\\\\RHI.csv', '.\\\\finance_data\\\\data\\\\RHT.csv', '.\\\\finance_data\\\\data\\\\RIG.csv', '.\\\\finance_data\\\\data\\\\RJF.csv', '.\\\\finance_data\\\\data\\\\RL.csv', '.\\\\finance_data\\\\data\\\\ROK.csv', '.\\\\finance_data\\\\data\\\\ROP.csv', '.\\\\finance_data\\\\data\\\\ROST.csv', '.\\\\finance_data\\\\data\\\\RRC.csv', '.\\\\finance_data\\\\data\\\\RSG.csv', '.\\\\finance_data\\\\data\\\\RTN.csv', '.\\\\finance_data\\\\data\\\\SBUX.csv', '.\\\\finance_data\\\\data\\\\SCG.csv', '.\\\\finance_data\\\\data\\\\SCHW.csv', '.\\\\finance_data\\\\data\\\\SEE.csv', '.\\\\finance_data\\\\data\\\\SHW.csv', '.\\\\finance_data\\\\data\\\\SIG.csv', '.\\\\finance_data\\\\data\\\\SJM.csv', '.\\\\finance_data\\\\data\\\\SLB.csv', '.\\\\finance_data\\\\data\\\\SLG.csv', '.\\\\finance_data\\\\data\\\\SNA.csv', '.\\\\finance_data\\\\data\\\\SNI.csv', '.\\\\finance_data\\\\data\\\\SNPS.csv', '.\\\\finance_data\\\\data\\\\SO.csv', '.\\\\finance_data\\\\data\\\\SPG.csv', '.\\\\finance_data\\\\data\\\\SPGI.csv', '.\\\\finance_data\\\\data\\\\SPLS.csv', '.\\\\finance_data\\\\data\\\\SRCL.csv', '.\\\\finance_data\\\\data\\\\SRE.csv', '.\\\\finance_data\\\\data\\\\STI.csv', '.\\\\finance_data\\\\data\\\\STT.csv', '.\\\\finance_data\\\\data\\\\STX.csv', '.\\\\finance_data\\\\data\\\\STZ.csv', '.\\\\finance_data\\\\data\\\\SWK.csv', '.\\\\finance_data\\\\data\\\\SWKS.csv', '.\\\\finance_data\\\\data\\\\SYF.csv', '.\\\\finance_data\\\\data\\\\SYK.csv', '.\\\\finance_data\\\\data\\\\SYMC.csv', '.\\\\finance_data\\\\data\\\\SYY.csv', '.\\\\finance_data\\\\data\\\\T.csv', '.\\\\finance_data\\\\data\\\\TAP.csv', '.\\\\finance_data\\\\data\\\\TDC.csv', '.\\\\finance_data\\\\data\\\\TDG.csv', '.\\\\finance_data\\\\data\\\\TEL.csv', '.\\\\finance_data\\\\data\\\\TGNA.csv', '.\\\\finance_data\\\\data\\\\TGT.csv', '.\\\\finance_data\\\\data\\\\TIF.csv', '.\\\\finance_data\\\\data\\\\TJX.csv', '.\\\\finance_data\\\\data\\\\TMK.csv', '.\\\\finance_data\\\\data\\\\TMO.csv', '.\\\\finance_data\\\\data\\\\TRIP.csv', '.\\\\finance_data\\\\data\\\\TROW.csv', '.\\\\finance_data\\\\data\\\\TRV.csv', '.\\\\finance_data\\\\data\\\\TSCO.csv', '.\\\\finance_data\\\\data\\\\TSN.csv', '.\\\\finance_data\\\\data\\\\TSO.csv', '.\\\\finance_data\\\\data\\\\TSS.csv', '.\\\\finance_data\\\\data\\\\TWX.csv', '.\\\\finance_data\\\\data\\\\TXN.csv', '.\\\\finance_data\\\\data\\\\TXT.csv', '.\\\\finance_data\\\\data\\\\UA.csv', '.\\\\finance_data\\\\data\\\\UAA.csv', '.\\\\finance_data\\\\data\\\\UAL.csv', '.\\\\finance_data\\\\data\\\\UDR.csv', '.\\\\finance_data\\\\data\\\\UHS.csv', '.\\\\finance_data\\\\data\\\\ULTA.csv', '.\\\\finance_data\\\\data\\\\UNH.csv', '.\\\\finance_data\\\\data\\\\UNM.csv', '.\\\\finance_data\\\\data\\\\UNP.csv', '.\\\\finance_data\\\\data\\\\UPS.csv', '.\\\\finance_data\\\\data\\\\URI.csv', '.\\\\finance_data\\\\data\\\\USB.csv', '.\\\\finance_data\\\\data\\\\UTX.csv', '.\\\\finance_data\\\\data\\\\V.csv', '.\\\\finance_data\\\\data\\\\VAR.csv', '.\\\\finance_data\\\\data\\\\VFC.csv', '.\\\\finance_data\\\\data\\\\VIAB.csv', '.\\\\finance_data\\\\data\\\\VLO.csv', '.\\\\finance_data\\\\data\\\\VMC.csv', '.\\\\finance_data\\\\data\\\\VNO.csv', '.\\\\finance_data\\\\data\\\\VRSK.csv', '.\\\\finance_data\\\\data\\\\VRSN.csv', '.\\\\finance_data\\\\data\\\\VRTX.csv', '.\\\\finance_data\\\\data\\\\VTR.csv', '.\\\\finance_data\\\\data\\\\VZ.csv', '.\\\\finance_data\\\\data\\\\WAT.csv', '.\\\\finance_data\\\\data\\\\WBA.csv', '.\\\\finance_data\\\\data\\\\WDC.csv', '.\\\\finance_data\\\\data\\\\WEC.csv', '.\\\\finance_data\\\\data\\\\WFC.csv', '.\\\\finance_data\\\\data\\\\WFM.csv', '.\\\\finance_data\\\\data\\\\WHR.csv', '.\\\\finance_data\\\\data\\\\WLTW.csv', '.\\\\finance_data\\\\data\\\\WM.csv', '.\\\\finance_data\\\\data\\\\WMB.csv', '.\\\\finance_data\\\\data\\\\WMT.csv', '.\\\\finance_data\\\\data\\\\WRK.csv', '.\\\\finance_data\\\\data\\\\WU.csv', '.\\\\finance_data\\\\data\\\\WY.csv', '.\\\\finance_data\\\\data\\\\WYN.csv', '.\\\\finance_data\\\\data\\\\WYNN.csv', '.\\\\finance_data\\\\data\\\\XEC.csv', '.\\\\finance_data\\\\data\\\\XEL.csv', '.\\\\finance_data\\\\data\\\\XL.csv', '.\\\\finance_data\\\\data\\\\XLNX.csv', '.\\\\finance_data\\\\data\\\\XOM.csv', '.\\\\finance_data\\\\data\\\\XRAY.csv', '.\\\\finance_data\\\\data\\\\XRX.csv', '.\\\\finance_data\\\\data\\\\XYL.csv', '.\\\\finance_data\\\\data\\\\YHOO.csv', '.\\\\finance_data\\\\data\\\\YUM.csv', '.\\\\finance_data\\\\data\\\\ZBH.csv', '.\\\\finance_data\\\\data\\\\ZION.csv', '.\\\\finance_data\\\\data\\\\ZTS.csv']\n",
      "505\n"
     ]
    }
   ],
   "source": [
    "print(all_files)\n",
    "print(len(all_files))"
   ]
  },
  {
   "cell_type": "code",
   "execution_count": 8,
   "metadata": {},
   "outputs": [
    {
     "name": "stdout",
     "output_type": "stream",
     "text": [
      "./finance_data/data/CFG.csv\n",
      "./finance_data/data/CSRA.csv\n",
      "./finance_data/data/FTV.csv\n",
      "./finance_data/data/HPE.csv\n",
      "./finance_data/data/KHC.csv\n",
      "./finance_data/data/PYPL.csv\n",
      "./finance_data/data/QRVO.csv\n",
      "./finance_data/data/SYF.csv\n",
      "./finance_data/data/UA.csv\n",
      "./finance_data/data/WLTW.csv\n",
      "./finance_data/data/WRK.csv\n"
     ]
    }
   ],
   "source": [
    "#monday data\n",
    "#for i in range(0, len(all_files)):\n",
    "import math\n",
    "import os\n",
    "r_for_all_stocks = {}\n",
    "'''\n",
    "#for i in range(0, 1):\n",
    "for i in range(0, len(all_files)):    \n",
    "    stock_info =  pd.read_csv(all_files[i])\n",
    "    dates = stock_info['Close']\n",
    "    #print((dates.size))\n",
    "    if(dates.size != 765):\n",
    "        continue\n",
    "    r = []\n",
    "    for j in range(1,765):\n",
    "        if(pd.Timestamp(stock_info.iloc[j]['Date']).weekday() == 0):\n",
    "            q = (stock_info.iloc[j]['Close'] - stock_info.iloc[j-1]['Close']) / stock_info.iloc[j-1]['Close']\n",
    "            r_val = math.log(1 + q)\n",
    "            r.append(r_val)\n",
    "    #print(len(r))\n",
    "    r_for_all_stocks[all_files[i]] = r\n",
    "'''\n",
    "for file in os.listdir(\"./finance_data/data\"):\n",
    "    if (file[-4:] != '.csv'): continue\n",
    "    file_name = file[:-4]\n",
    "    file = \"./finance_data/data\" + '/' + file\n",
    "    df = pd.read_csv(file)\n",
    "    arr_d = df['Date']\n",
    "    arr_p = df['Close']\n",
    "    arr_r = []\n",
    "    if len(arr_p) != 765:\n",
    "        print(file) \n",
    "        continue\n",
    "    for i in range(1, 765):\n",
    "        if pd.Timestamp(arr_d[i]).weekday() == 0:\n",
    "            q = (arr_p[i] - arr_p[i-1])/arr_p[i-1]\n",
    "            r = math.log(1+q)\n",
    "            arr_r += [r]\n",
    "    r_for_all_stocks[file_name] = arr_r\n",
    "    \n",
    "#print(r_for_all_stocks)"
   ]
  },
  {
   "cell_type": "code",
   "execution_count": 13,
   "metadata": {},
   "outputs": [
    {
     "name": "stdout",
     "output_type": "stream",
     "text": [
      "494\n"
     ]
    }
   ],
   "source": [
    "print(len(r_for_all_stocks))\n",
    "#print(r_for_all_stocks[all_files[0]])\n",
    "file_names = list(r_for_all_stocks.keys())"
   ]
  },
  {
   "cell_type": "code",
   "execution_count": 14,
   "metadata": {},
   "outputs": [],
   "source": [
    "#monday data\n",
    "import math\n",
    "#weights = np.zeros(shape= (len(r_for_all_stocks),len(r_for_all_stocks)))\n",
    "file = open(r\"edgeweights.txt\", \"w\")\n",
    "for i in range(len(file_names)):  \n",
    "    \n",
    "    #if all_files[i] not in r_for_all_stocks:\n",
    "        #continue\n",
    "    \n",
    "    r_i = r_for_all_stocks[file_names[i]]\n",
    "    for j in range(i+1, len(file_names)):  \n",
    "        '''\n",
    "        #if all_files[j] not in r_for_all_stocks:\n",
    "            #continue\n",
    "            \n",
    "        r_j = r_for_all_stocks[file_names[j]]\n",
    "        n = len(r_i)\n",
    "        #print(r_i)\n",
    "        #print(r_j)\n",
    "        a = np.inner(r_i,r_j)/n\n",
    "      \n",
    "        avg_ri = sum(r_i)/n\n",
    "        avg_rj = sum(r_j)/n\n",
    "        \n",
    "        b = avg_ri * avg_rj \n",
    "        #print(\"b=\",b)\n",
    "        c = np.inner(r_i,r_i)/n - np.power(avg_ri,2)\n",
    "        #print(\"c=\",c)\n",
    "        d = np.inner(r_j,r_j)/n - np.power(avg_rj,2)\n",
    "        #print(\"d=\",d)\n",
    "        ro_ij = a - b/ (math.sqrt(c * d))\n",
    "        #print(ro_ij)\n",
    "        print(ro_ij)\n",
    "        weights_ij = math.sqrt(2 * (1- ro_ij))\n",
    "        #print(weights[i][j])\n",
    "        if int(weights_ij) != 0:\n",
    "            file.write('{} {} {}\\n'.format(file_names[i], file_names[j], weights_ij))\n",
    "        '''\n",
    "        r_i = np.array(r_for_all_stocks[file_names[i]])\n",
    "        #print(r_i)\n",
    "        r_j = np.array(r_for_all_stocks[file_names[j]])\n",
    "        n = len(r_i)\n",
    "        avg_r_i = sum(r_i)/n\n",
    "        avg_r_j = sum(r_j)/n\n",
    "        ro_i_j = (np.inner(r_i, r_j)/n - avg_r_i*avg_r_j)/math.sqrt((np.inner(r_i, r_i)/n-pow(avg_r_i,2))*(np.inner(r_j, r_j)/n-pow(avg_r_j,2)))\n",
    "        #print(ro_i_j)\n",
    "        w_i_j = math.sqrt(2*(1-ro_i_j))\n",
    "        if w_i_j != 0:\n",
    "            file.write('{} {} {}\\n'.format(file_names[i], file_names[j], w_i_j))\n",
    "        "
   ]
  },
  {
   "cell_type": "code",
   "execution_count": null,
   "metadata": {},
   "outputs": [],
   "source": [
    "print(weights)"
   ]
  },
  {
   "cell_type": "code",
   "execution_count": 15,
   "metadata": {},
   "outputs": [
    {
     "name": "stdout",
     "output_type": "stream",
     "text": [
      "494\n"
     ]
    }
   ],
   "source": [
    "#weekly data\n",
    "import os\n",
    "import pandas as pd\n",
    "import math\n",
    "import numpy as np\n",
    "\n",
    "directory = os.path.abspath(\"./finance_data/data\")\n",
    "#print(directory)\n",
    "d_r = {}\n",
    "for file in os.listdir(directory):\n",
    "    if (file[-4:] != '.csv'): continue\n",
    "    file_name = file[:-4]\n",
    "    file = directory + '/' + file\n",
    "    #print(file)\n",
    "    df = pd.read_csv(file)\n",
    "    arr_d = df['Date']\n",
    "    arr_p = df['Close']\n",
    "    arr_r = []\n",
    "    if len(arr_p) != 765:\n",
    "        continue\n",
    "    for i in range(1, 765):\n",
    "        #if (pd.Timestamp(arr_d[i]).weekday() != 5 or pd.Timestamp(arr_d[i]).weekday() != 6):\n",
    "        q = (arr_p[i] - arr_p[i-1])/arr_p[i-1]\n",
    "        r = math.log(1+q)\n",
    "        arr_r += [r]\n",
    "    d_r[file_name] = arr_r\n",
    "\n",
    "file = open(r\"newweights.txt\", \"w\")\n",
    "file_names = list(d_r.keys()) #list\n",
    "print(len(file_names))\n",
    "for i in range(len(file_names)):\n",
    "    for j in range(i+1, len(file_names)):\n",
    "        r_i = np.array(d_r[file_names[i]])\n",
    "        r_j = np.array(d_r[file_names[j]])\n",
    "        n = len(r_i)\n",
    "        avg_r_i = sum(r_i)/n\n",
    "        avg_r_j = sum(r_j)/n\n",
    "        ro_i_j = (np.inner(r_i, r_j)/n - avg_r_i*avg_r_j)/math.sqrt((np.inner(r_i, r_i)/n-pow(avg_r_i,2))*(np.inner(r_j, r_j)/n-pow(avg_r_j,2)))\n",
    "        w_i_j = math.sqrt(2*(1-ro_i_j))\n",
    "        if w_i_j != 0:\n",
    "            file.write('{} {} {}\\n'.format(file_names[i], file_names[j], w_i_j))\n",
    "\n",
    "file.close()"
   ]
  },
  {
   "cell_type": "code",
   "execution_count": null,
   "metadata": {},
   "outputs": [],
   "source": []
  }
 ],
 "metadata": {
  "kernelspec": {
   "display_name": "Python 3",
   "language": "python",
   "name": "python3"
  },
  "language_info": {
   "codemirror_mode": {
    "name": "ipython",
    "version": 3
   },
   "file_extension": ".py",
   "mimetype": "text/x-python",
   "name": "python",
   "nbconvert_exporter": "python",
   "pygments_lexer": "ipython3",
   "version": "3.7.3"
  }
 },
 "nbformat": 4,
 "nbformat_minor": 2
}
