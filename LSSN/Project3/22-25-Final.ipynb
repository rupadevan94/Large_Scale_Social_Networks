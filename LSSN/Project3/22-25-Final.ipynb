{
 "cells": [
  {
   "cell_type": "code",
   "execution_count": 1,
   "metadata": {},
   "outputs": [],
   "source": [
    "import numpy as np\n",
    "import scipy\n",
    "import time\n",
    "import matplotlib.pyplot as plt\n",
    "\n",
    "from cvxopt import solvers,matrix\n",
    "from matplotlib.colors import ListedColormap\n",
    "solvers.options['show_progress']=False\n",
    "import seaborn as sns;"
   ]
  },
  {
   "cell_type": "code",
   "execution_count": 4,
   "metadata": {},
   "outputs": [],
   "source": [
    "def plot_policy_map(table, val, title=\"\"):\n",
    "    \n",
    "    plt.pcolor(table, cmap=ListedColormap(['white']), edgecolors='black')\n",
    "    plt.gca().invert_yaxis()\n",
    "    plt.axis('equal')\n",
    "    plt.title(title)\n",
    "    for y in range(table.shape[0]):\n",
    "        for x in range(table.shape[1]):\n",
    "            plt.text(x + 0.5, y + 0.5, val[y, x],\n",
    "                horizontalalignment='center',\n",
    "                verticalalignment='center')\n",
    "    plt.show()\n",
    "    \n",
    "    \n",
    "def plot_optimal_policy_diff(P,title=\"\",diff_list=[]):\n",
    "    U=np.chararray((P.shape[0], P.shape[1]),unicode=True)\n",
    "    \n",
    "    for r in range(P.shape[0]):\n",
    "        for c in range(P.shape[1]):\n",
    "            if ((r,c) in diff_list):\n",
    "                U[r][c] = arrows[P[r][c]]\n",
    "    plot_policy_map(P, U, title)\n",
    "    \n",
    "def probability(currentstate, nextstate, move, prob):\n",
    "    actions = [-10, -1, 10, 1]\n",
    "    left = currentstate + actions[0]\n",
    "    up = currentstate + actions[1]\n",
    "    right = currentstate + actions[2]\n",
    "    down = currentstate + actions[3]\n",
    "    if nextstate == left:\n",
    "        if move == 0:\n",
    "            return 1-prob+prob/4\n",
    "        else:\n",
    "            return prob/4\n",
    "    elif nextstate == up:\n",
    "        if move == 1:\n",
    "            return 1-prob+prob/4\n",
    "        else:\n",
    "            return prob/4\n",
    "    elif nextstate == right:\n",
    "        if move == 2:\n",
    "            return 1-prob+prob/4\n",
    "        else:\n",
    "            return prob/4\n",
    "    elif nextstate == down:\n",
    "        if move == 3:\n",
    "            return 1-prob+prob/4\n",
    "        else:\n",
    "            return prob/4\n",
    "    elif nextstate == currentstate:\n",
    "        record = 0\n",
    "        if left < 0:\n",
    "            if move == 0:\n",
    "                record += (1-prob+prob/4)\n",
    "            else:\n",
    "                record += prob/4\n",
    "        if right > 99:\n",
    "            if move == 2:\n",
    "                record += (1-prob+prob/4)\n",
    "            else:\n",
    "                record += prob/4\n",
    "        if up % 10 == 9:\n",
    "            if move == 1:\n",
    "                record += (1-prob+prob/4)\n",
    "            else:\n",
    "                record += prob/4\n",
    "        if down % 10 == 0:\n",
    "            if move == 3:\n",
    "                record += (1-prob+prob/4)\n",
    "            else:\n",
    "                record += prob/4\n",
    "        return record\n",
    "    else:\n",
    "        return 0\n",
    "    \n",
    "def next_states(length, cur_state):\n",
    "    x = cur_state % length\n",
    "    y = cur_state // length\n",
    "    up = cur_state - 1\n",
    "    down = cur_state + 1\n",
    "    left = cur_state - length\n",
    "    right = cur_state + length\n",
    "    if x == 0:\n",
    "        up = cur_state\n",
    "    if x == length - 1:\n",
    "        down = cur_state\n",
    "    if y == 0:\n",
    "        left = cur_state\n",
    "    if y == length - 1:\n",
    "        right = cur_state\n",
    "    return np.array([up, down, left, right])\n",
    "\n",
    "def compute(currentstate, move, prob, gamma, reward, values):\n",
    "    left = currentstate + actions[0]\n",
    "    right = currentstate + actions[2]\n",
    "    up = currentstate + actions[1]\n",
    "    down = currentstate + actions[3]\n",
    "    neighbours = [left, right, up, down, currentstate]\n",
    "    result = 0\n",
    "    for neigh in neighbours:\n",
    "        if neigh < 0 or neigh > 99 or (currentstate % 10 == 0 and neigh % 10 == 9) or (currentstate % 10 == 9 and neigh % 10 == 0):\n",
    "            continue\n",
    "        result += probability(currentstate, neigh, move, prob) * (reward[neigh] + gamma * values[neigh])\n",
    "    return result\n",
    "\n",
    "def optimal_state_val(w, gamma, reward, threshold):\n",
    "    values = [0 for _ in range(100)]\n",
    "    for state in range(100):\n",
    "        values[state] = 0\n",
    "    delta = float('inf')\n",
    "    while delta > threshold:\n",
    "        delta = 0\n",
    "        temp = values[:]\n",
    "        for state in range(100):\n",
    "            v = values[state]\n",
    "            values[state] = max(compute(state, 0, w, gamma, reward, temp),\n",
    "                                compute(state, 1, w, gamma, reward, temp),\n",
    "                                compute(state, 2, w, gamma, reward, temp),\n",
    "                                compute(state, 3, w, gamma, reward, temp))\n",
    "            delta = max(delta, abs(v - values[state]))\n",
    "    return values\n",
    "\n",
    "def raw_matrix(length, w, direction):\n",
    "    s = length * length\n",
    "    res = np.zeros(s * s).reshape(s, s)\n",
    "    main_possibility = 1 - w\n",
    "    random_possibility = w / 4\n",
    "    for row in range(s):\n",
    "        nexts = next_states(length, row)\n",
    "        if direction == \"up\":\n",
    "            res[row][nexts[0]] = main_possibility\n",
    "        elif direction == \"down\":\n",
    "            res[row][nexts[1]] = main_possibility\n",
    "        elif direction == \"left\":\n",
    "            res[row][nexts[2]] = main_possibility\n",
    "        elif direction == \"right\":\n",
    "            res[row][nexts[3]] = main_possibility\n",
    "        for col in nexts:\n",
    "            res[row][col] += random_possibility\n",
    "    return res\n",
    "\n",
    "\n",
    "def get_reward(c, D, b):\n",
    "    A = matrix(D)\n",
    "    b = matrix(b)\n",
    "    c = matrix(c)\n",
    "    solvers.options['show_progress'] = False\n",
    "    sol=solvers.lp(c,A,b)\n",
    "    return sol['x'][-100:]\n",
    "\n",
    "def get_c_D_b(exp_action, P_actions, lam, rmax):\n",
    "    # create P_exp(P_a1), P_ag1(P_a), P_ag2(P_a), P_ag3(P_a)\n",
    "    P_exp = []\n",
    "    P_ags = []\n",
    "    P_ags.append([])\n",
    "    P_ags.append([])\n",
    "    P_ags.append([])\n",
    "    for state in range(100):\n",
    "        exp_act = exp_action[state]\n",
    "        agent = 0\n",
    "        for action in range(4):\n",
    "            if action == exp_act:\n",
    "                P_exp.append(P_actions[action][state])\n",
    "            else:\n",
    "                P_ags[agent].append(P_actions[action][state])\n",
    "                agent += 1\n",
    "\n",
    "    I = np.eye(100)\n",
    "    zero = np.zeros(100 * 100).reshape(100, 100)\n",
    "    D = np.concatenate((zero, zero, zero, zero))\n",
    "    D = np.concatenate((D, np.concatenate((-I, -I, zero, zero)), \n",
    "                        np.concatenate((I, -I, I, -I))), 1)\n",
    " \n",
    "    for Pa in P_ags:\n",
    "        # (Pa-Pa1)(I-ga*Pa1)^(-1)\n",
    "        temp = np.dot((np.array(Pa) - np.array(P_exp)), \n",
    "                      np.linalg.inv(np.eye(100) - 0.8 * np.array(P_exp)))\n",
    "        temp_row1 = np.concatenate((I, zero, temp), 1)\n",
    "        temp_row2 = np.concatenate((zero, zero, temp), 1)\n",
    "        temp = np.concatenate((temp_row1, temp_row2))\n",
    "        D = np.concatenate((temp, D))\n",
    "        \n",
    "    c1 = np.array([1. for _ in range(100)])\n",
    "    c2 = np.array([-lam for _ in range(100)])\n",
    "    c3 = np.array([0.0 for _ in range(100)])\n",
    "    c = np.concatenate((c1, c2, c3), axis=0)\n",
    "    c = -c\n",
    "    b1 = np.array([0.0 for _ in range(800)])\n",
    "    b2 = np.array([rmax for _ in range(200)])\n",
    "    b = np.concatenate((b1, b2), axis=0)\n",
    "    return c, D, b"
   ]
  },
  {
   "cell_type": "code",
   "execution_count": 6,
   "metadata": {},
   "outputs": [],
   "source": [
    "reward2 = [[0 for _ in range(10)] for _ in range(10)]\n",
    "reward2[1][4:7] = [-100 for _ in range(3)]\n",
    "reward2[2][4] = -100\n",
    "reward2[2][6] = -100\n",
    "reward2[3][4] = -100\n",
    "reward2[3][6:9] = [-100 for _ in range(3)]\n",
    "reward2[4][4] = -100\n",
    "reward2[4][8] = -100\n",
    "reward2[5][4] = -100\n",
    "reward2[5][8] = -100\n",
    "reward2[6][4] = -100\n",
    "reward2[6][8] = -100\n",
    "reward2[7][6:9] = [-100 for _ in range(3)]\n",
    "reward2[8][6] = -100\n",
    "reward2[9][9] = 10\n",
    "reward_2 = []\n",
    "reward2 = np.array(reward2).transpose()\n",
    "for lines in reward2:\n",
    "    reward_2 += list(lines)"
   ]
  },
  {
   "cell_type": "code",
   "execution_count": 5,
   "metadata": {},
   "outputs": [],
   "source": [
    "thres = 0.01\n",
    "actions = [-10, -1, 10, 1]\n",
    "w = 0.1\n",
    "gamma = 0.8"
   ]
  },
  {
   "cell_type": "code",
   "execution_count": 7,
   "metadata": {},
   "outputs": [],
   "source": [
    "v_2_flat = optimal_state_val(w, gamma, reward_2, thres)\n",
    "exp_action2 = [0 for _ in range(100)]\n",
    "for state in range(100):\n",
    "    exp_action2[state] = np.argmax([compute(state, 0, w, gamma, reward_2, v_2_flat),\n",
    "                                   compute(state, 1, w, gamma, reward_2, v_2_flat),\n",
    "                                   compute(state, 2, w, gamma, reward_2, v_2_flat),\n",
    "                                   compute(state, 3, w, gamma, reward_2, v_2_flat)])\n",
    "v_2 = np.reshape(v_2_flat, (10,10)).T"
   ]
  },
  {
   "cell_type": "code",
   "execution_count": 8,
   "metadata": {},
   "outputs": [],
   "source": [
    "P_acts = []\n",
    "P_acts.append(raw_matrix(10, 0.1, \"left\"))\n",
    "P_acts.append(raw_matrix(10, 0.1, \"up\"))\n",
    "P_acts.append(raw_matrix(10, 0.1, \"right\"))\n",
    "P_acts.append(raw_matrix(10, 0.1, \"down\"))\n",
    "\n",
    "lam_max2 = 0.77\n",
    "c_opt2, D_opt2, b_opt2 = get_c_D_b(exp_action2, P_acts, lam_max2, 100)\n",
    "reward_opt2 = np.array(get_reward(c_opt2, D_opt2, b_opt2))\n",
    "\n",
    "v_maxlambda_2_flat = optimal_state_val(w, gamma, reward_opt2, thres)\n",
    "v_maxlambda_2 = np.reshape(v_maxlambda_2_flat, (10,10)).T"
   ]
  },
  {
   "cell_type": "code",
   "execution_count": 9,
   "metadata": {},
   "outputs": [
    {
     "data": {
      "text/plain": [
       "Text(0.5, 1.0, 'Values from Value Iteration for Reward 2')"
      ]
     },
     "execution_count": 9,
     "metadata": {},
     "output_type": "execute_result"
    },
    {
     "data": {
      "image/png": "[encoded data removed]",
      "text/plain": [
       "<Figure size 432x288 with 2 Axes>"
      ]
     },
     "metadata": {
      "needs_background": "light"
     },
     "output_type": "display_data"
    }
   ],
   "source": [
    "# Heat Map from Q7\n",
    "# Optimal Value for Each State from Value Iteration using Reward 2\n",
    "\n",
    "ax = sns.heatmap(v_2, cmap=\"Blues\")\n",
    "ax.set_title(\"Values from Value Iteration for Reward 2\")"
   ]
  },
  {
   "cell_type": "code",
   "execution_count": 10,
   "metadata": {},
   "outputs": [
    {
     "data": {
      "text/plain": [
       "Text(0.5, 1.0, 'Values from Value Iteration for Predicted Reward 2')"
      ]
     },
     "execution_count": 10,
     "metadata": {},
     "output_type": "execute_result"
    },
    {
     "data": {
      "image/png": "[encoded data removed]",
      "text/plain": [
       "<Figure size 432x288 with 2 Axes>"
      ]
     },
     "metadata": {
      "needs_background": "light"
     },
     "output_type": "display_data"
    }
   ],
   "source": [
    "# Question 22\n",
    "# Optimal Value for Each State from Value Iteration using the Predicted Reward from IRL\n",
    "\n",
    "ax = sns.heatmap(v_maxlambda_2, cmap=\"Blues\")\n",
    "ax.set_title(\"Values from Value Iteration for Predicted Reward 2\")"
   ]
  },
  {
   "cell_type": "code",
   "execution_count": 11,
   "metadata": {},
   "outputs": [],
   "source": [
    "arrows = ['\\u2190', '\\u2191', '\\u2192', '\\u2193']"
   ]
  },
  {
   "cell_type": "code",
   "execution_count": 13,
   "metadata": {},
   "outputs": [],
   "source": [
    "p_maxlambda_2 = [0 for _ in range(100)]\n",
    "p_maxlambda_2_u = [0 for _ in range(100)]\n",
    "for state in range(100):\n",
    "    p_maxlambda_2[state] = np.argmax([compute(state, 0, w, gamma, reward_opt2, v_maxlambda_2_flat),\n",
    "                                   compute(state, 1, w, gamma, reward_opt2, v_maxlambda_2_flat),\n",
    "                                   compute(state, 2, w, gamma, reward_opt2, v_maxlambda_2_flat),\n",
    "                                   compute(state, 3, w, gamma, reward_opt2, v_maxlambda_2_flat)])\n",
    "    p_maxlambda_2_u[state] = arrows[np.argmax([compute(state, 0, w, gamma, reward_opt2, v_maxlambda_2_flat),\n",
    "                                   compute(state, 1, w, gamma, reward_opt2, v_maxlambda_2_flat),\n",
    "                                   compute(state, 2, w, gamma, reward_opt2, v_maxlambda_2_flat),\n",
    "                                   compute(state, 3, w, gamma, reward_opt2, v_maxlambda_2_flat)])]\n",
    "    \n",
    "p_maxlambda_2 = np.reshape(p_maxlambda_2, (10,10)).transpose()\n",
    "p_maxlambda_2_u = np.reshape(p_maxlambda_2_u, (10,10)).transpose()"
   ]
  },
  {
   "cell_type": "code",
   "execution_count": 14,
   "metadata": {},
   "outputs": [],
   "source": [
    "p_2 = [0 for _ in range(100)]\n",
    "p_2_u = [0 for _ in range(100)]\n",
    "for state in range(100):\n",
    "    p_2[state] = np.argmax([compute(state, 0, w, gamma, reward_2, v_2_flat),\n",
    "                                   compute(state, 1, w, gamma, reward_2, v_2_flat),\n",
    "                                   compute(state, 2, w, gamma, reward_2, v_2_flat),\n",
    "                                   compute(state, 3, w, gamma, reward_2, v_2_flat)])\n",
    "    p_2_u[state] = arrows[np.argmax([compute(state, 0, w, gamma, reward_2, v_2_flat),\n",
    "                                   compute(state, 1, w, gamma, reward_2, v_2_flat),\n",
    "                                   compute(state, 2, w, gamma, reward_2, v_2_flat),\n",
    "                                   compute(state, 3, w, gamma, reward_2, v_2_flat)])]\n",
    "    \n",
    "p_2 = np.reshape(p_2, (10,10)).transpose()\n",
    "p_2_u = np.reshape(p_2_u, (10,10)).transpose()"
   ]
  },
  {
   "cell_type": "code",
   "execution_count": 15,
   "metadata": {},
   "outputs": [
    {
     "data": {
      "image/png": "[encoded data removed]",
      "text/plain": [
       "<Figure size 432x288 with 1 Axes>"
      ]
     },
     "metadata": {
      "needs_background": "light"
     },
     "output_type": "display_data"
    }
   ],
   "source": [
    "plot_policy_map(p_maxlambda_2, p_maxlambda_2_u, \"Optimal Policy From Derived Reward for Reward2\")"
   ]
  },
  {
   "cell_type": "code",
   "execution_count": 16,
   "metadata": {},
   "outputs": [
    {
     "data": {
      "image/png": "[encoded data removed]",
      "text/plain": [
       "<Figure size 432x288 with 1 Axes>"
      ]
     },
     "metadata": {
      "needs_background": "light"
     },
     "output_type": "display_data"
    }
   ],
   "source": [
    "plot_policy_map(p_2, p_2_u, \"Optimal Policy From Ground Truth Reward2\")"
   ]
  },
  {
   "cell_type": "code",
   "execution_count": 17,
   "metadata": {},
   "outputs": [],
   "source": [
    "diff_list = []\n",
    "for i in range(len(p_2)):\n",
    "    for j in range(len(p_2[0])):\n",
    "        if (p_2[i][j] != p_maxlambda_2[i][j]):\n",
    "            diff_list.append((i,j))"
   ]
  },
  {
   "cell_type": "code",
   "execution_count": 18,
   "metadata": {},
   "outputs": [
    {
     "name": "stdout",
     "output_type": "stream",
     "text": [
      "5\n"
     ]
    }
   ],
   "source": [
    "print(len(diff_list))"
   ]
  },
  {
   "cell_type": "code",
   "execution_count": 19,
   "metadata": {},
   "outputs": [],
   "source": [
    "# Heat Map of the scaled differce in real and predicted rewards\n",
    "# Optimal Value for Each State from Value Iteration using best lambda and predicted reward\n",
    "v_ml_max = max(v_maxlambda_2.flatten())\n",
    "v_ml_min = min(v_maxlambda_2.flatten())\n",
    "v_max = max(v_2.flatten())\n",
    "v_min = min(v_2.flatten())\n",
    "\n",
    "v_maxlambda_2_scaled = (v_maxlambda_2 - v_ml_min)/(v_ml_max - v_ml_min)\n",
    "v_2_scaled = (v_2 - v_min)/(v_max - v_min)"
   ]
  },
  {
   "cell_type": "code",
   "execution_count": 29,
   "metadata": {},
   "outputs": [
    {
     "name": "stdout",
     "output_type": "stream",
     "text": [
      "Max and Min for actual values:\n",
      " 47.311471068007975 -13.916634571058609\n",
      "\n",
      "Max and Min for predicted values:\n",
      " 485.797735663887 -16.029960271859125\n"
     ]
    }
   ],
   "source": [
    "print (\"Max and Min for actual values:\\n\", v_max, v_min)\n",
    "print (\"\\nMax and Min for predicted values:\\n\", v_ml_max, v_ml_min)"
   ]
  },
  {
   "cell_type": "code",
   "execution_count": 21,
   "metadata": {},
   "outputs": [
    {
     "data": {
      "text/plain": [
       "Text(0.5, 1.0, 'Value Difference: (Predcited - Ground Truth)')"
      ]
     },
     "execution_count": 21,
     "metadata": {},
     "output_type": "execute_result"
    },
    {
     "data": {
      "image/png": "[encoded data removed]",
      "text/plain": [
       "<Figure size 432x288 with 2 Axes>"
      ]
     },
     "metadata": {
      "needs_background": "light"
     },
     "output_type": "display_data"
    }
   ],
   "source": [
    "ax = sns.heatmap(v_maxlambda_2_scaled - v_2_scaled, cmap=sns.diverging_palette(240, 10, as_cmap=True))\n",
    "ax.set_title(\"Value Difference: (Predcited - Ground Truth)\")"
   ]
  },
  {
   "cell_type": "code",
   "execution_count": 22,
   "metadata": {},
   "outputs": [
    {
     "data": {
      "image/png": "[encoded data removed]",
      "text/plain": [
       "<Figure size 432x288 with 1 Axes>"
      ]
     },
     "metadata": {
      "needs_background": "light"
     },
     "output_type": "display_data"
    },
    {
     "data": {
      "image/png": "[encoded data removed]",
      "text/plain": [
       "<Figure size 432x288 with 1 Axes>"
      ]
     },
     "metadata": {
      "needs_background": "light"
     },
     "output_type": "display_data"
    }
   ],
   "source": [
    "plot_optimal_policy_diff(p_2, \"Optimal Policy From Ground Truth Reward\", diff_list)\n",
    "plot_optimal_policy_diff(p_maxlambda_2, \"Optimal Policy From Derived Reward\", diff_list)"
   ]
  },
  {
   "cell_type": "code",
   "execution_count": 49,
   "metadata": {},
   "outputs": [],
   "source": [
    "thres = 0.000001\n",
    "actions = [-10, -1, 10, 1]\n",
    "w = 0.1\n",
    "gamma = 0.8"
   ]
  },
  {
   "cell_type": "code",
   "execution_count": 50,
   "metadata": {},
   "outputs": [
    {
     "name": "stdout",
     "output_type": "stream",
     "text": [
      "0\n"
     ]
    }
   ],
   "source": [
    "v_maxlambda_2_flat = optimal_state_val(w, gamma, reward_opt2, thres)\n",
    "v_maxlambda_2 = np.reshape(v_maxlambda_2_flat, (10,10)).T\n",
    "\n",
    "p_maxlambda_2 = [0 for _ in range(100)]\n",
    "p_maxlambda_2_u = [0 for _ in range(100)]\n",
    "for state in range(100):\n",
    "    p_maxlambda_2[state] = np.argmax([compute(state, 0, w, gamma, reward_opt2, v_maxlambda_2_flat),\n",
    "                                   compute(state, 1, w, gamma, reward_opt2, v_maxlambda_2_flat),\n",
    "                                   compute(state, 2, w, gamma, reward_opt2, v_maxlambda_2_flat),\n",
    "                                   compute(state, 3, w, gamma, reward_opt2, v_maxlambda_2_flat)])\n",
    "    p_maxlambda_2_u[state] = arrows[np.argmax([compute(state, 0, w, gamma, reward_opt2, v_maxlambda_2_flat),\n",
    "                                   compute(state, 1, w, gamma, reward_opt2, v_maxlambda_2_flat),\n",
    "                                   compute(state, 2, w, gamma, reward_opt2, v_maxlambda_2_flat),\n",
    "                                   compute(state, 3, w, gamma, reward_opt2, v_maxlambda_2_flat)])]\n",
    "    \n",
    "p_maxlambda_2 = np.reshape(p_maxlambda_2, (10,10)).transpose()\n",
    "p_maxlambda_2_u = np.reshape(p_maxlambda_2_u, (10,10)).transpose()\n",
    "\n",
    "diff_list = []\n",
    "for i in range(len(p_2)):\n",
    "    for j in range(len(p_2[0])):\n",
    "        if (p_2[i][j] != p_maxlambda_2[i][j]):\n",
    "            diff_list.append((i,j))\n",
    "            \n",
    "print(len(diff_list))"
   ]
  },
  {
   "cell_type": "code",
   "execution_count": 51,
   "metadata": {},
   "outputs": [
    {
     "data": {
      "image/png": "[encoded data removed]",
      "text/plain": [
       "<Figure size 432x288 with 1 Axes>"
      ]
     },
     "metadata": {
      "needs_background": "light"
     },
     "output_type": "display_data"
    },
    {
     "data": {
      "image/png": "[encoded data removed]",
      "text/plain": [
       "<Figure size 432x288 with 1 Axes>"
      ]
     },
     "metadata": {
      "needs_background": "light"
     },
     "output_type": "display_data"
    }
   ],
   "source": [
    "plot_optimal_policy_diff(p_2, \"Optimal Policy From Ground Truth Reward\", diff_list)\n",
    "plot_optimal_policy_diff(p_maxlambda_2, \"Optimal Policy From Derived Reward\", diff_list)"
   ]
  },
  {
   "cell_type": "code",
   "execution_count": null,
   "metadata": {},
   "outputs": [],
   "source": []
  }
 ],
 "metadata": {
  "kernelspec": {
   "display_name": "Python 3",
   "language": "python",
   "name": "python3"
  },
  "language_info": {
   "codemirror_mode": {
    "name": "ipython",
    "version": 3
   },
   "file_extension": ".py",
   "mimetype": "text/x-python",
   "name": "python",
   "nbconvert_exporter": "python",
   "pygments_lexer": "ipython3",
   "version": "3.7.1"
  }
 },
 "nbformat": 4,
 "nbformat_minor": 2
}
