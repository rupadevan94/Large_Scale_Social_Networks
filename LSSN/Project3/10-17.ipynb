{
 "cells": [
  {
   "cell_type": "code",
   "execution_count": 5,
   "metadata": {
    "collapsed": false
   },
   "outputs": [],
   "source": [
    "import numpy as np\n",
    "import scipy\n",
    "import time\n",
    "import matplotlib.pyplot as plt\n",
    "from cvxopt import solvers,matrix\n",
    "from matplotlib.colors import ListedColormap\n",
    "solvers.options['show_progress']=False"
   ]
  },
  {
   "cell_type": "code",
   "execution_count": 50,
   "metadata": {
    "collapsed": true
   },
   "outputs": [],
   "source": [
    "def find_state(row, col, action, shape):\n",
    "   \n",
    "    if action == 0:\n",
    "        row2, col2 = (max(row-1,0), col)\n",
    "   \n",
    "    elif action == 1:\n",
    "        row2, col2 = (row, max(col-1,0))\n",
    "   \n",
    "    elif action == 2:\n",
    "        row2, col2 = (min(row+1, shape[0]-1), col)\n",
    "   \n",
    "    elif action == 3:\n",
    "        row2, col2 = (row, min(col+1, shape[1]-1))\n",
    "    return (row2, col2)\n",
    "\n",
    "def get_diff_of_policy(P1, P2,gamma):\n",
    "    return np.dot((P1-P2), np.linalg.inv(np.identity(P1.shape[0])-gamma*P1))\n",
    "\n",
    "def find_transition_matrix(policy, num_actions, w):\n",
    "    \n",
    "    transition_matrix = np.zeros((len(policy)*len(policy[0]), len(policy)*len(policy[0])))\n",
    "    for r in range(policy.shape[0]):\n",
    "        for c in range(policy.shape[1]):\n",
    "            cur_state_index = r + c*policy.shape[0]\n",
    "            opt_action = policy[r][c]\n",
    "            for ex in range(num_actions):\n",
    "                next_r, next_c = find_state(r,c,ex,policy.shape)\n",
    "                trans_prob = w/4\n",
    "                if ex == opt_action:\n",
    "                    trans_prob +=  (1-w)\n",
    "                next_state_index = next_r + next_c*policy.shape[0]\n",
    "                transition_matrix[cur_state_index][next_state_index] += trans_prob\n",
    "                \n",
    "    return transition_matrix    \n",
    "\n",
    "\n",
    "\n",
    "def get_D_and_b_matrices(opt_policy, r_max, num_actions, gamma, random_action_prob):\n",
    "    \n",
    "    P_a1 = find_transition_matrix(opt_policy, num_actions, random_action_prob)\n",
    "    P_a2 = find_transition_matrix(np.mod(opt_policy+1,num_actions), num_actions, random_action_prob)\n",
    "    P_a3 = find_transition_matrix(np.mod(opt_policy+2,num_actions), num_actions, random_action_prob)\n",
    "    P_a4 = find_transition_matrix(np.mod(opt_policy+3,num_actions), num_actions, random_action_prob)\n",
    "    \n",
    "    N = np.ma.size(opt_policy)\n",
    "    I_NxN = np.identity(N)\n",
    "    zero_NxN = np.zeros((N,N))\n",
    "    \n",
    "    D1 = np.concatenate([I_NxN, zero_NxN, -get_diff_of_policy(P_a1, P_a2, gamma)],axis=1)\n",
    "    D2 = np.concatenate([I_NxN, zero_NxN, -get_diff_of_policy(P_a1, P_a3, gamma)],axis=1)\n",
    "    D3 = np.concatenate([I_NxN, zero_NxN, -get_diff_of_policy(P_a1, P_a4, gamma)],axis=1)\n",
    "    D4 = np.concatenate([zero_NxN, zero_NxN, -get_diff_of_policy(P_a1, P_a2, gamma)],axis=1)\n",
    "    D5 = np.concatenate([zero_NxN, zero_NxN, -get_diff_of_policy(P_a1, P_a3, gamma)],axis=1)\n",
    "    D6 = np.concatenate([zero_NxN, zero_NxN, -get_diff_of_policy(P_a1, P_a4, gamma)],axis=1)\n",
    "    D7 = np.concatenate([zero_NxN, -I_NxN, I_NxN],axis=1)\n",
    "    D8 = np.concatenate([zero_NxN, -I_NxN, -I_NxN],axis=1)\n",
    "    D9 = np.concatenate([zero_NxN, zero_NxN, I_NxN],axis=1)\n",
    "    D10 = np.concatenate([zero_NxN, zero_NxN, -I_NxN],axis=1)\n",
    "    D = np.concatenate([D1,D2,D3,D4,D5,D6,D7,D8,D9,D10],axis=0)\n",
    "    \n",
    "    b = np.concatenate([np.zeros((8*N,)), r_max*np.ones((2*N,))])\n",
    "    \n",
    "    return D, b\n",
    "    \n",
    "def get_optimal_val(reward, estimation_step, w, gamma):\n",
    "    \n",
    "    V = np.zeros(reward.shape)\n",
    "    P = np.zeros(reward.shape)\n",
    "    delta = float('inf')\n",
    "    \n",
    "    i = 0\n",
    "    while delta > estimation_step:\n",
    "        delta = 0\n",
    "\n",
    "        for r in range(V.shape[0]):\n",
    "            for c in range(V.shape[1]):\n",
    "\n",
    "                ideal_action_val = -float('inf')\n",
    "                \n",
    "                best_action = 0 \n",
    "                \n",
    "                for a in range(4):\n",
    "                    action_value = 0\n",
    "\n",
    "                    for ex in range(4):\n",
    "\n",
    "                        next_r, next_c = find_state(r,c,ex,V.shape)\n",
    "\n",
    "     \n",
    "                        execution_probability = (w / 4)\n",
    "\n",
    "                        if ex == a:\n",
    "                            execution_probability += (1-w)\n",
    "\n",
    "                        \n",
    "                        action_value += (execution_probability) * (reward[next_r,next_c] + gamma*V[next_r,next_c])\n",
    "\n",
    "                    if action_value > ideal_action_val:\n",
    "                        ideal_action_val = action_value\n",
    "                        best_action = a\n",
    "                        \n",
    "                #print(\"Iteration \" + str(i))\n",
    "                #print(ideal_action_val, best_action)\n",
    "                delta = max(delta, abs(V[r][c] - ideal_action_val))\n",
    "                V[r][c] = ideal_action_val \n",
    "                P[r][c] = best_action\n",
    "        i = i + 1\n",
    "        print(delta)\n",
    "    print(i)\n",
    "    return V,P"
   ]
  },
  {
   "cell_type": "code",
   "execution_count": 27,
   "metadata": {
    "collapsed": true
   },
   "outputs": [],
   "source": [
    "w = 0.1"
   ]
  },
  {
   "cell_type": "code",
   "execution_count": 51,
   "metadata": {
    "collapsed": false
   },
   "outputs": [
    {
     "name": "stdout",
     "output_type": "stream",
     "text": [
      "0.9870000000000001\n",
      "0.7811851999999999\n",
      "0.6184217780800001\n",
      "0.48958234650483234\n",
      "0.3875858692674461\n",
      "0.30683879727585905\n",
      "0.24291404617757628\n",
      "0.1923069530464412\n",
      "0.15224300447595063\n",
      "0.12052571187470829\n",
      "0.0954161885672482\n",
      "0.07553781594904585\n",
      "0.06007419835129152\n",
      "0.047606226982926714\n",
      "0.037694874937064804\n",
      "0.029977539650948515\n",
      "0.023851839484637344\n",
      "0.018974289470062883\n",
      "0.015091299225087756\n",
      "0.01200068146059638\n",
      "0.009542522841845001\n",
      "21\n"
     ]
    }
   ],
   "source": [
    "V, P = get_optimal_val(reward1, estimation_step, w, gamma)"
   ]
  },
  {
   "cell_type": "code",
   "execution_count": 43,
   "metadata": {
    "collapsed": false
   },
   "outputs": [
    {
     "data": {
      "text/plain": [
       "array([[2., 3., 3., 3., 3., 3., 3., 2., 2., 2.],\n",
       "       [2., 2., 3., 3., 3., 3., 2., 2., 2., 2.],\n",
       "       [2., 2., 3., 3., 3., 2., 2., 2., 2., 2.],\n",
       "       [2., 2., 2., 2., 2., 2., 2., 2., 2., 2.],\n",
       "       [2., 2., 2., 3., 2., 2., 2., 2., 2., 2.],\n",
       "       [2., 2., 3., 3., 3., 2., 2., 2., 2., 2.],\n",
       "       [2., 3., 3., 3., 3., 3., 2., 2., 2., 2.],\n",
       "       [3., 3., 3., 3., 3., 3., 3., 2., 2., 2.],\n",
       "       [3., 3., 3., 3., 3., 3., 3., 3., 2., 2.],\n",
       "       [3., 3., 3., 3., 3., 3., 3., 3., 3., 2.]])"
      ]
     },
     "execution_count": 43,
     "metadata": {},
     "output_type": "execute_result"
    }
   ],
   "source": [
    "P"
   ]
  },
  {
   "cell_type": "code",
   "execution_count": 42,
   "metadata": {
    "collapsed": false
   },
   "outputs": [
    {
     "data": {
      "text/plain": [
       "array([[0.04179568, 0.06283791, 0.089742  , 0.12384898, 0.16708096,\n",
       "        0.22188288, 0.29135376, 0.37942014, 0.49098293, 0.60964773],\n",
       "       [0.06283791, 0.08787011, 0.12155728, 0.16451357, 0.21924607,\n",
       "        0.28898976, 0.37787112, 0.49106061, 0.63321853, 0.78735399],\n",
       "       [0.089742  , 0.12155728, 0.16438987, 0.21913198, 0.28890328,\n",
       "        0.37782648, 0.49115592, 0.63549019, 0.81735527, 1.01859718],\n",
       "       [0.12384898, 0.16451357, 0.21913198, 0.28889981, 0.37782476,\n",
       "        0.49115916, 0.6356006 , 0.81960951, 1.05219113, 1.31505855],\n",
       "       [0.16708096, 0.21924607, 0.28890328, 0.37782476, 0.49115918,\n",
       "        0.63560325, 0.81969511, 1.05426506, 1.35157155, 1.69507283],\n",
       "       [0.22188288, 0.28898976, 0.37782648, 0.49115916, 0.63560325,\n",
       "        0.8196963 , 1.05432164, 1.35332408, 1.73318006, 2.18223115],\n",
       "       [0.29135376, 0.37787112, 0.49115592, 0.6356006 , 0.81969511,\n",
       "        1.05432164, 1.35335083, 1.73446085, 2.21952677, 2.80680236],\n",
       "       [0.37942014, 0.49106061, 0.63549019, 0.81960951, 1.05426506,\n",
       "        1.35332408, 1.73446085, 2.22020148, 2.839257  , 3.60762627],\n",
       "       [0.49098293, 0.63321853, 0.81735527, 1.05219113, 1.35157155,\n",
       "        1.73318006, 2.21952677, 2.839257  , 3.62881377, 4.63454707],\n",
       "       [0.60964773, 0.78735399, 1.01859718, 1.31505855, 1.69507283,\n",
       "        2.18223115, 2.80680236, 3.60762627, 4.63454707, 4.70154001]])"
      ]
     },
     "execution_count": 42,
     "metadata": {},
     "output_type": "execute_result"
    }
   ],
   "source": [
    "V"
   ]
  },
  {
   "cell_type": "code",
   "execution_count": 7,
   "metadata": {
    "collapsed": false
   },
   "outputs": [],
   "source": [
    "reward1 = np.zeros((10,10))\n",
    "reward1[9,9] = 1\n",
    "\n",
    "reward2 = np.zeros((10,10))\n",
    "reward2[1:7,4] = -100\n",
    "reward2[1,5] = -100\n",
    "reward2[1:4,6] = -100\n",
    "reward2[7:9,6] = -100\n",
    "reward2[3,7] = -100\n",
    "reward2[7,7] = -100\n",
    "reward2[3:8,8] = -100\n",
    "reward2[9,9] = 10"
   ]
  },
  {
   "cell_type": "code",
   "execution_count": 12,
   "metadata": {
    "collapsed": true
   },
   "outputs": [],
   "source": [
    "estimation_step = 0.01\n",
    "random_action_prob = 0.1\n",
    "gamma = 0.8\n",
    "N = 100\n",
    "V, P = get_optimal_val(reward1, estimation_step, random_action_prob, gamma)"
   ]
  },
  {
   "cell_type": "code",
   "execution_count": 13,
   "metadata": {
    "collapsed": false
   },
   "outputs": [
    {
     "data": {
      "text/plain": [
       "array([[0.04179568, 0.06283791, 0.089742  , 0.12384898, 0.16708096,\n",
       "        0.22188288, 0.29135376, 0.37942014, 0.49098293, 0.60964773],\n",
       "       [0.06283791, 0.08787011, 0.12155728, 0.16451357, 0.21924607,\n",
       "        0.28898976, 0.37787112, 0.49106061, 0.63321853, 0.78735399],\n",
       "       [0.089742  , 0.12155728, 0.16438987, 0.21913198, 0.28890328,\n",
       "        0.37782648, 0.49115592, 0.63549019, 0.81735527, 1.01859718],\n",
       "       [0.12384898, 0.16451357, 0.21913198, 0.28889981, 0.37782476,\n",
       "        0.49115916, 0.6356006 , 0.81960951, 1.05219113, 1.31505855],\n",
       "       [0.16708096, 0.21924607, 0.28890328, 0.37782476, 0.49115918,\n",
       "        0.63560325, 0.81969511, 1.05426506, 1.35157155, 1.69507283],\n",
       "       [0.22188288, 0.28898976, 0.37782648, 0.49115916, 0.63560325,\n",
       "        0.8196963 , 1.05432164, 1.35332408, 1.73318006, 2.18223115],\n",
       "       [0.29135376, 0.37787112, 0.49115592, 0.6356006 , 0.81969511,\n",
       "        1.05432164, 1.35335083, 1.73446085, 2.21952677, 2.80680236],\n",
       "       [0.37942014, 0.49106061, 0.63549019, 0.81960951, 1.05426506,\n",
       "        1.35332408, 1.73446085, 2.22020148, 2.839257  , 3.60762627],\n",
       "       [0.49098293, 0.63321853, 0.81735527, 1.05219113, 1.35157155,\n",
       "        1.73318006, 2.21952677, 2.839257  , 3.62881377, 4.63454707],\n",
       "       [0.60964773, 0.78735399, 1.01859718, 1.31505855, 1.69507283,\n",
       "        2.18223115, 2.80680236, 3.60762627, 4.63454707, 4.70154001]])"
      ]
     },
     "execution_count": 13,
     "metadata": {},
     "output_type": "execute_result"
    }
   ],
   "source": [
    "V"
   ]
  },
  {
   "cell_type": "code",
   "execution_count": 14,
   "metadata": {
    "collapsed": false
   },
   "outputs": [
    {
     "name": "stdout",
     "output_type": "stream",
     "text": [
      "0\n",
      "1\n",
      "2\n",
      "3\n",
      "4\n",
      "5\n",
      "6\n",
      "7\n",
      "8\n",
      "9\n",
      "10\n",
      "11\n",
      "12\n",
      "13\n",
      "14\n",
      "15\n",
      "16\n",
      "17\n",
      "18\n",
      "19\n",
      "20\n",
      "21\n",
      "22\n",
      "23\n",
      "24\n",
      "25\n",
      "26\n",
      "27\n",
      "28\n",
      "29\n",
      "30\n",
      "31\n",
      "32\n",
      "33\n",
      "34\n",
      "35\n",
      "36\n",
      "37\n",
      "38\n",
      "39\n",
      "40\n",
      "41\n",
      "42\n",
      "43\n",
      "44\n",
      "45\n",
      "46\n",
      "47\n",
      "48\n",
      "49\n",
      "50\n",
      "51\n",
      "52\n",
      "53\n",
      "54\n",
      "55\n",
      "56\n",
      "57\n",
      "58\n",
      "59\n",
      "60\n",
      "61\n",
      "62\n",
      "63\n",
      "64\n",
      "65\n",
      "66\n",
      "67\n",
      "68\n",
      "69\n",
      "70\n",
      "71\n",
      "72\n",
      "73\n",
      "74\n",
      "75\n",
      "76\n",
      "77\n",
      "78\n",
      "79\n",
      "80\n",
      "81\n",
      "82\n",
      "83\n",
      "84\n",
      "85\n",
      "86\n",
      "87\n",
      "88\n",
      "89\n",
      "90\n",
      "91\n",
      "92\n",
      "93\n",
      "94\n",
      "95\n",
      "96\n",
      "97\n",
      "98\n",
      "99\n",
      "100\n",
      "101\n",
      "102\n",
      "103\n",
      "104\n",
      "105\n",
      "106\n",
      "107\n",
      "108\n",
      "109\n",
      "110\n",
      "111\n",
      "112\n",
      "113\n",
      "114\n",
      "115\n",
      "116\n",
      "117\n",
      "118\n",
      "119\n",
      "120\n",
      "121\n",
      "122\n",
      "123\n",
      "124\n",
      "125\n",
      "126\n",
      "127\n",
      "128\n",
      "129\n",
      "130\n",
      "131\n",
      "132\n",
      "133\n",
      "134\n",
      "135\n",
      "136\n",
      "137\n",
      "138\n",
      "139\n",
      "140\n",
      "141\n",
      "142\n",
      "143\n",
      "144\n",
      "145\n",
      "146\n",
      "147\n",
      "148\n",
      "149\n",
      "150\n",
      "151\n",
      "152\n",
      "153\n",
      "154\n",
      "155\n",
      "156\n",
      "157\n",
      "158\n",
      "159\n",
      "160\n",
      "161\n",
      "162\n",
      "163\n",
      "164\n",
      "165\n",
      "166\n",
      "167\n",
      "168\n",
      "169\n",
      "170\n",
      "171\n",
      "172\n",
      "173\n",
      "174\n",
      "175\n",
      "176\n",
      "177\n",
      "178\n",
      "179\n",
      "180\n",
      "181\n",
      "182\n",
      "183\n",
      "184\n",
      "185\n",
      "186\n",
      "187\n",
      "188\n",
      "189\n",
      "190\n",
      "191\n",
      "192\n",
      "193\n",
      "194\n",
      "195\n",
      "196\n",
      "197\n",
      "198\n",
      "199\n",
      "200\n",
      "201\n",
      "202\n",
      "203\n",
      "204\n",
      "205\n",
      "206\n",
      "207\n",
      "208\n",
      "209\n",
      "210\n",
      "211\n",
      "212\n",
      "213\n",
      "214\n",
      "215\n",
      "216\n",
      "217\n",
      "218\n",
      "219\n",
      "220\n",
      "221\n",
      "222\n",
      "223\n",
      "224\n",
      "225\n",
      "226\n",
      "227\n",
      "228\n",
      "229\n",
      "230\n",
      "231\n",
      "232\n",
      "233\n",
      "234\n",
      "235\n",
      "236\n",
      "237\n",
      "238\n",
      "239\n",
      "240\n",
      "241\n",
      "242\n",
      "243\n",
      "244\n",
      "245\n",
      "246\n",
      "247\n",
      "248\n",
      "249\n",
      "250\n",
      "251\n",
      "252\n",
      "253\n",
      "254\n",
      "255\n",
      "256\n",
      "257\n",
      "258\n",
      "259\n",
      "260\n",
      "261\n",
      "262\n",
      "263\n",
      "264\n",
      "265\n",
      "266\n",
      "267\n",
      "268\n",
      "269\n",
      "270\n",
      "271\n",
      "272\n",
      "273\n",
      "274\n",
      "275\n",
      "276\n",
      "277\n",
      "278\n",
      "279\n",
      "280\n",
      "281\n",
      "282\n",
      "283\n",
      "284\n",
      "285\n",
      "286\n",
      "287\n",
      "288\n",
      "289\n",
      "290\n",
      "291\n",
      "292\n",
      "293\n",
      "294\n",
      "295\n",
      "296\n",
      "297\n",
      "298\n",
      "299\n",
      "300\n",
      "301\n",
      "302\n",
      "303\n",
      "304\n",
      "305\n",
      "306\n",
      "307\n",
      "308\n",
      "309\n",
      "310\n",
      "311\n",
      "312\n",
      "313\n",
      "314\n",
      "315\n",
      "316\n",
      "317\n",
      "318\n",
      "319\n",
      "320\n",
      "321\n",
      "322\n",
      "323\n",
      "324\n",
      "325\n",
      "326\n",
      "327\n",
      "328\n",
      "329\n",
      "330\n",
      "331\n",
      "332\n",
      "333\n",
      "334\n",
      "335\n",
      "336\n",
      "337\n",
      "338\n",
      "339\n",
      "340\n",
      "341\n",
      "342\n",
      "343\n",
      "344\n",
      "345\n",
      "346\n",
      "347\n",
      "348\n",
      "349\n",
      "350\n",
      "351\n",
      "352\n",
      "353\n",
      "354\n",
      "355\n",
      "356\n",
      "357\n",
      "358\n",
      "359\n",
      "360\n",
      "361\n",
      "362\n",
      "363\n",
      "364\n",
      "365\n",
      "366\n",
      "367\n",
      "368\n",
      "369\n",
      "370\n",
      "371\n",
      "372\n",
      "373\n",
      "374\n",
      "375\n",
      "376\n",
      "377\n",
      "378\n",
      "379\n",
      "380\n",
      "381\n",
      "382\n",
      "383\n",
      "384\n",
      "385\n",
      "386\n",
      "387\n",
      "388\n",
      "389\n",
      "390\n",
      "391\n",
      "392\n",
      "393\n",
      "394\n",
      "395\n",
      "396\n",
      "397\n",
      "398\n",
      "399\n",
      "400\n",
      "401\n",
      "402\n",
      "403\n",
      "404\n",
      "405\n",
      "406\n",
      "407\n",
      "408\n",
      "409\n",
      "410\n",
      "411\n",
      "412\n",
      "413\n",
      "414\n",
      "415\n",
      "416\n",
      "417\n",
      "418\n",
      "419\n",
      "420\n",
      "421\n",
      "422\n",
      "423\n",
      "424\n",
      "425\n",
      "426\n",
      "427\n",
      "428\n",
      "429\n",
      "430\n",
      "431\n",
      "432\n",
      "433\n",
      "434\n",
      "435\n",
      "436\n",
      "437\n",
      "438\n",
      "439\n",
      "440\n",
      "441\n",
      "442\n",
      "443\n",
      "444\n",
      "445\n",
      "446\n",
      "447\n",
      "448\n",
      "449\n",
      "450\n",
      "451\n",
      "452\n",
      "453\n",
      "454\n",
      "455\n",
      "456\n",
      "457\n",
      "458\n",
      "459\n",
      "460\n",
      "461\n",
      "462\n",
      "463\n",
      "464\n",
      "465\n",
      "466\n",
      "467\n",
      "468\n",
      "469\n",
      "470\n",
      "471\n",
      "472\n",
      "473\n",
      "474\n",
      "475\n",
      "476\n",
      "477\n",
      "478\n",
      "479\n",
      "480\n",
      "481\n",
      "482\n",
      "483\n",
      "484\n",
      "485\n",
      "486\n",
      "487\n",
      "488\n",
      "489\n",
      "490\n",
      "491\n",
      "492\n",
      "493\n",
      "494\n",
      "495\n",
      "496\n",
      "497\n",
      "498\n",
      "499\n"
     ]
    }
   ],
   "source": [
    "\n",
    "V_1,P_1 = get_optimal_val(reward1, estimation_step, random_action_prob, gamma)\n",
    "\n",
    "N_lambda = 500\n",
    "max_lambda = 5\n",
    "accuracy_all = np.zeros(N_lambda)\n",
    "rmax = 1\n",
    "\n",
    "D, b = get_D_and_b_matrices(P_1,rmax,4,gamma,random_action_prob)\n",
    "\n",
    "for i,L1 in enumerate(np.linspace(0,max_lambda,N_lambda)):\n",
    "    print(i)\n",
    "    c = np.concatenate([np.ones((N,)), -L1*np.ones((N,)), np.zeros((N,))])\n",
    "    sol = solvers.lp(matrix(-c),matrix(D),matrix(b))\n",
    "    x = np.array(sol['x'])\n",
    "    R = np.transpose(np.reshape(x[200:],(10,10)))\n",
    "    \n",
    "    v,p = get_optimal_val(R, estimation_step, random_action_prob, gamma)\n",
    "    accuracy = np.sum(P==p)/p.size\n",
    "    accuracy_all[i] = accuracy"
   ]
  },
  {
   "cell_type": "code",
   "execution_count": 15,
   "metadata": {
    "collapsed": false
   },
   "outputs": [
    {
     "data": {
      "image/png": "[encoded data removed]",
      "text/plain": [
       "<Figure size 432x288 with 1 Axes>"
      ]
     },
     "metadata": {
      "needs_background": "light"
     },
     "output_type": "display_data"
    }
   ],
   "source": [
    "plt.plot(np.linspace(0,max_lambda,N_lambda),accuracy_all)\n",
    "plt.xlabel('Lambda')\n",
    "plt.ylabel('Accuracy')\n",
    "plt.show()"
   ]
  },
  {
   "cell_type": "code",
   "execution_count": 16,
   "metadata": {
    "collapsed": true
   },
   "outputs": [],
   "source": [
    "import seaborn as sns; \n",
    "def heat_map(table,title=\"\"):\n",
    "    #sns.set()\n",
    "    ax = sns.heatmap(table)\n",
    "    ax.set_title(title)"
   ]
  },
  {
   "cell_type": "code",
   "execution_count": 17,
   "metadata": {
    "collapsed": true
   },
   "outputs": [],
   "source": [
    "\n",
    "def heat_map2(table,title=\"\"):\n",
    "    \n",
    "    plt.pcolor(table)\n",
    "    plt.gca().invert_yaxis()\n",
    "    plt.colorbar()\n",
    "    plt.axis('equal')\n",
    "    plt.title(title)\n",
    "    plt.show()\n",
    "    \n",
    "def plot_optimal_state_value(table,title=\"\"):\n",
    "    \n",
    "    plt.pcolor(table, cmap=ListedColormap(['white']), edgecolors='black')\n",
    "    plt.gca().invert_yaxis()\n",
    "    plt.axis('equal')\n",
    "    plt.title(title)\n",
    "    \n",
    "    for y in range(table.shape[0]):\n",
    "        for x in range(table.shape[1]):\n",
    "            if(table[y, x] >= 10):\n",
    "                plt.text(x + 0.5, y + 0.5, '%.1f' % table[y, x],\n",
    "                horizontalalignment='center',\n",
    "                verticalalignment='center', fontsize=7.5)\n",
    "            else:\n",
    "                plt.text(x + 0.5, y + 0.5, '%.2f' % table[y, x],\n",
    "                    horizontalalignment='center',\n",
    "                    verticalalignment='center', fontsize=7.5)\n",
    "    plt.show()\n",
    "\n",
    "def plot_policy_map(table, val, title=\"\"):\n",
    "    \n",
    "    plt.pcolor(table, cmap=ListedColormap(['white']), edgecolors='black')\n",
    "    plt.gca().invert_yaxis()\n",
    "    plt.axis('equal')\n",
    "    plt.title(title)\n",
    "    for y in range(table.shape[0]):\n",
    "        for x in range(table.shape[1]):\n",
    "            plt.text(x + 0.5, y + 0.5, val[y, x],\n",
    "                horizontalalignment='center',\n",
    "                verticalalignment='center')\n",
    "    plt.show()\n",
    "    \n",
    "def plot_optimal_policy(P,title=\"\"):\n",
    "    U=np.chararray((P.shape[0], P.shape[1]),unicode=True)\n",
    "    \n",
    "    for r in range(P.shape[0]):\n",
    "        for c in range(P.shape[1]):\n",
    "           \n",
    "            if P[r][c] == 0:\n",
    "                U[r][c] = '\\u2191'\n",
    "           \n",
    "            elif P[r][c] == 1:\n",
    "                U[r][c] = '\\u2190'\n",
    "           \n",
    "            elif P[r][c] == 2:\n",
    "                U[r][c] = '\\u2193'\n",
    "           \n",
    "            elif P[r][c] == 3:\n",
    "                U[r][c] = '\\u2192'\n",
    "    plot_policy_map(P, U, title)"
   ]
  },
  {
   "cell_type": "code",
   "execution_count": 35,
   "metadata": {
    "collapsed": false
   },
   "outputs": [
    {
     "name": "stdout",
     "output_type": "stream",
     "text": [
      "→\n"
     ]
    }
   ],
   "source": [
    "print('\\u2192') #u, l, d, r"
   ]
  },
  {
   "cell_type": "code",
   "execution_count": 18,
   "metadata": {
    "collapsed": false
   },
   "outputs": [
    {
     "name": "stdout",
     "output_type": "stream",
     "text": [
      "Best Lambda: 2.344689\n",
      "Best Accuracy: 0.980000\n"
     ]
    }
   ],
   "source": [
    "#12\n",
    "l = np.linspace(0,max_lambda,N_lambda)\n",
    "a = accuracy_all == np.max(accuracy_all)\n",
    "#print(np.sort(accuracy_all,-1))\n",
    "\n",
    "l_max = max(l[a])\n",
    "print(\"Best Lambda: %f\" % l_max)\n",
    "print(\"Best Accuracy: %f\" % max(accuracy_all))"
   ]
  },
  {
   "cell_type": "code",
   "execution_count": 19,
   "metadata": {
    "collapsed": false
   },
   "outputs": [
    {
     "name": "stdout",
     "output_type": "stream",
     "text": [
      "Accuracy: 0.980000\n"
     ]
    }
   ],
   "source": [
    "\n",
    "estimation_step = 0.01\n",
    "\n",
    "#D, b = get_LP_components(P,1,4,gamma,random_action_prob)\n",
    "c = np.concatenate([np.ones((N,)), -l_max*np.ones((N,)), np.zeros((N,))])\n",
    "sol = solvers.lp(matrix(-c),matrix(D),matrix(b))\n",
    "x = np.array(sol['x'])\n",
    "R = np.transpose(np.reshape(x[200:],(10,10)))\n",
    "\n",
    "v_maxlambda_1, p_maxlambda_1 = get_optimal_val(R, estimation_step, random_action_prob, gamma)\n",
    "v_truth_1, p_truth_1 = get_optimal_val(reward1, estimation_step, random_action_prob, gamma)\n",
    "\n",
    "print(\"Accuracy: %f\" % (np.sum(p_truth_1 == p_maxlambda_1)/p_truth_1.size))\n"
   ]
  },
  {
   "cell_type": "code",
   "execution_count": 20,
   "metadata": {
    "collapsed": false
   },
   "outputs": [
    {
     "data": {
      "text/plain": [
       "Text(0.5, 1.0, 'Reward from IRL')"
      ]
     },
     "execution_count": 20,
     "metadata": {},
     "output_type": "execute_result"
    },
    {
     "data": {
      "image/png": "[encoded data removed]",
      "text/plain": [
       "<Figure size 432x288 with 2 Axes>"
      ]
     },
     "metadata": {
      "needs_background": "light"
     },
     "output_type": "display_data"
    }
   ],
   "source": [
    "#13\n",
    "ax = sns.heatmap(R)\n",
    "ax.set_title(\"Reward from IRL\")"
   ]
  },
  {
   "cell_type": "code",
   "execution_count": 21,
   "metadata": {
    "collapsed": false
   },
   "outputs": [
    {
     "data": {
      "text/plain": [
       "Text(0.5, 1.0, 'Reward 1 from Ground Truth')"
      ]
     },
     "execution_count": 21,
     "metadata": {},
     "output_type": "execute_result"
    },
    {
     "data": {
      "image/png": "[encoded data removed]",
      "text/plain": [
       "<Figure size 432x288 with 2 Axes>"
      ]
     },
     "metadata": {
      "needs_background": "light"
     },
     "output_type": "display_data"
    }
   ],
   "source": [
    "#13\n",
    "ax = sns.heatmap(reward1)\n",
    "ax.set_title(\"Reward 1 from Ground Truth\")"
   ]
  },
  {
   "cell_type": "code",
   "execution_count": 22,
   "metadata": {
    "collapsed": false
   },
   "outputs": [
    {
     "data": {
      "text/plain": [
       "Text(0.5, 1.0, 'Optimal state values From Derived Reward')"
      ]
     },
     "execution_count": 22,
     "metadata": {},
     "output_type": "execute_result"
    },
    {
     "data": {
      "image/png": "[encoded data removed]",
      "text/plain": [
       "<Figure size 432x288 with 2 Axes>"
      ]
     },
     "metadata": {
      "needs_background": "light"
     },
     "output_type": "display_data"
    }
   ],
   "source": [
    "#14\n",
    "ax = sns.heatmap(v_maxlambda_1)\n",
    "ax.set_title(\"Optimal state values From Derived Reward\")\n",
    "\n"
   ]
  },
  {
   "cell_type": "code",
   "execution_count": 23,
   "metadata": {
    "collapsed": false
   },
   "outputs": [
    {
     "data": {
      "image/png": "[encoded data removed]",
      "text/plain": [
       "<Figure size 432x288 with 1 Axes>"
      ]
     },
     "metadata": {
      "needs_background": "light"
     },
     "output_type": "display_data"
    }
   ],
   "source": [
    "plot_optimal_state_value(v_maxlambda_1, \"Value Function From Derived Reward\")"
   ]
  },
  {
   "cell_type": "code",
   "execution_count": 24,
   "metadata": {
    "collapsed": false
   },
   "outputs": [
    {
     "data": {
      "image/png": "[encoded data removed]",
      "text/plain": [
       "<Figure size 432x288 with 1 Axes>"
      ]
     },
     "metadata": {
      "needs_background": "light"
     },
     "output_type": "display_data"
    }
   ],
   "source": [
    "plot_optimal_state_value(v_truth_1, \"Value Function From Ground truth Reward 1\")"
   ]
  },
  {
   "cell_type": "code",
   "execution_count": 25,
   "metadata": {
    "collapsed": false
   },
   "outputs": [
    {
     "data": {
      "image/png": "[encoded data removed]",
      "text/plain": [
       "<Figure size 432x288 with 1 Axes>"
      ]
     },
     "metadata": {
      "needs_background": "light"
     },
     "output_type": "display_data"
    },
    {
     "data": {
      "image/png": "[encoded data removed]",
      "text/plain": [
       "<Figure size 432x288 with 2 Axes>"
      ]
     },
     "metadata": {
      "needs_background": "light"
     },
     "output_type": "display_data"
    },
    {
     "data": {
      "image/png": "[encoded data removed]",
      "text/plain": [
       "<Figure size 432x288 with 1 Axes>"
      ]
     },
     "metadata": {
      "needs_background": "light"
     },
     "output_type": "display_data"
    },
    {
     "data": {
      "image/png": "[encoded data removed]",
      "text/plain": [
       "<Figure size 432x288 with 1 Axes>"
      ]
     },
     "metadata": {
      "needs_background": "light"
     },
     "output_type": "display_data"
    }
   ],
   "source": [
    "#16\n",
    "plot_optimal_state_value(v_maxlambda_1, \"Optimal state values From Derived Reward\")\n",
    "heat_map2(v_maxlambda_1, \"Optimal state values From Derived Reward\")\n",
    "\n",
    "\n",
    "plot_optimal_policy(p_maxlambda_1, \"Optimal Policy From Derived Reward\")\n",
    "plot_optimal_policy(p_truth_1, \"Optimal Policy From Ground Truth Reward\")"
   ]
  },
  {
   "cell_type": "code",
   "execution_count": null,
   "metadata": {
    "collapsed": true
   },
   "outputs": [],
   "source": []
  }
 ],
 "metadata": {
  "anaconda-cloud": {},
  "kernelspec": {
   "display_name": "Python [conda env:py36]",
   "language": "python",
   "name": "conda-env-py36-py"
  },
  "language_info": {
   "codemirror_mode": {
    "name": "ipython",
    "version": 3
   },
   "file_extension": ".py",
   "mimetype": "text/x-python",
   "name": "python",
   "nbconvert_exporter": "python",
   "pygments_lexer": "ipython3",
   "version": "3.6.7"
  }
 },
 "nbformat": 4,
 "nbformat_minor": 2
}
