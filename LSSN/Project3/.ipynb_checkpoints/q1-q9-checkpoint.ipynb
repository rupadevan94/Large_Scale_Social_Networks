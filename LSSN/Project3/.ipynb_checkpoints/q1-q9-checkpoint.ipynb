{
 "cells": [
  {
   "cell_type": "code",
   "execution_count": 2,
   "metadata": {
    "collapsed": true
   },
   "outputs": [],
   "source": [
    "import numpy as np"
   ]
  },
  {
   "cell_type": "code",
   "execution_count": 3,
   "metadata": {
    "collapsed": false,
    "scrolled": true
   },
   "outputs": [],
   "source": [
    "#############State Space############"
   ]
  },
  {
   "cell_type": "code",
   "execution_count": 10,
   "metadata": {
    "collapsed": false
   },
   "outputs": [],
   "source": [
    "state_space = np.zeros((10, 10))\n",
    "for i in range(10):\n",
    "    for j in range(10):\n",
    "        state_space[i][j] = i * 10 + j\n",
    "state_space = np.transpose(state_space)"
   ]
  },
  {
   "cell_type": "code",
   "execution_count": 11,
   "metadata": {
    "collapsed": false
   },
   "outputs": [
    {
     "data": {
      "text/plain": [
       "array([[ 0., 10., 20., 30., 40., 50., 60., 70., 80., 90.],\n",
       "       [ 1., 11., 21., 31., 41., 51., 61., 71., 81., 91.],\n",
       "       [ 2., 12., 22., 32., 42., 52., 62., 72., 82., 92.],\n",
       "       [ 3., 13., 23., 33., 43., 53., 63., 73., 83., 93.],\n",
       "       [ 4., 14., 24., 34., 44., 54., 64., 74., 84., 94.],\n",
       "       [ 5., 15., 25., 35., 45., 55., 65., 75., 85., 95.],\n",
       "       [ 6., 16., 26., 36., 46., 56., 66., 76., 86., 96.],\n",
       "       [ 7., 17., 27., 37., 47., 57., 67., 77., 87., 97.],\n",
       "       [ 8., 18., 28., 38., 48., 58., 68., 78., 88., 98.],\n",
       "       [ 9., 19., 29., 39., 49., 59., 69., 79., 89., 99.]])"
      ]
     },
     "execution_count": 11,
     "metadata": {},
     "output_type": "execute_result"
    }
   ],
   "source": [
    "state_space"
   ]
  },
  {
   "cell_type": "code",
   "execution_count": 22,
   "metadata": {
    "collapsed": false,
    "scrolled": false
   },
   "outputs": [
    {
     "name": "stdout",
     "output_type": "stream",
     "text": [
      "90\n",
      "91\n",
      "92\n",
      "93\n",
      "94\n",
      "95\n",
      "96\n",
      "97\n",
      "98\n",
      "99\n"
     ]
    }
   ],
   "source": [
    "for i in range(0,100):\n",
    "    if(i + 10 > 99):\n",
    "        print(i)"
   ]
  },
  {
   "cell_type": "code",
   "execution_count": 12,
   "metadata": {
    "collapsed": false
   },
   "outputs": [],
   "source": [
    "actions = ('R', 'L', 'U', 'D')"
   ]
  },
  {
   "cell_type": "code",
   "execution_count": 13,
   "metadata": {
    "collapsed": true
   },
   "outputs": [],
   "source": [
    "############### Transition probabilities ###################"
   ]
  },
  {
   "cell_type": "code",
   "execution_count": 42,
   "metadata": {
    "collapsed": true
   },
   "outputs": [],
   "source": [
    "transL = np.zeros((100, 100))\n",
    "transR = np.zeros((100, 100))\n",
    "transU = np.zeros((100, 100))\n",
    "transD = np.zeros((100, 100))"
   ]
  },
  {
   "cell_type": "code",
   "execution_count": 36,
   "metadata": {
    "collapsed": true
   },
   "outputs": [],
   "source": [
    "w = 0.1"
   ]
  },
  {
   "cell_type": "code",
   "execution_count": 37,
   "metadata": {
    "collapsed": true
   },
   "outputs": [],
   "source": [
    "######### Probability to move to a different grid position ##########"
   ]
  },
  {
   "cell_type": "code",
   "execution_count": 38,
   "metadata": {
    "collapsed": false,
    "scrolled": true
   },
   "outputs": [],
   "source": [
    "########## non boundary cases along the direction intended ###########\n",
    "for i in range(1, 9):\n",
    "    for j in range(1, 9):\n",
    "        transL[i * 10 + j][i * 10 + j - 10] = 1 - w + w / 4\n",
    "        transR[i * 10 + j][i * 10 + j + 10] = 1 - w + w / 4\n",
    "        transU[i * 10 + j][i * 10 + j - 1] = 1 - w + w / 4\n",
    "        transD[i * 10 + j][i * 10 + j + 1] = 1 - w + w / 4"
   ]
  },
  {
   "cell_type": "code",
   "execution_count": 45,
   "metadata": {
    "collapsed": false
   },
   "outputs": [
    {
     "name": "stdout",
     "output_type": "stream",
     "text": [
      "[[0. 0. 0. ... 0. 0. 0.]\n",
      " [0. 0. 0. ... 0. 0. 0.]\n",
      " [0. 0. 0. ... 0. 0. 0.]\n",
      " ...\n",
      " [0. 0. 0. ... 0. 0. 0.]\n",
      " [0. 0. 0. ... 0. 0. 0.]\n",
      " [0. 0. 0. ... 0. 0. 0.]]\n"
     ]
    }
   ],
   "source": [
    "print(transL)"
   ]
  },
  {
   "cell_type": "code",
   "execution_count": 46,
   "metadata": {
    "collapsed": false
   },
   "outputs": [
    {
     "data": {
      "text/plain": [
       "array([[0., 0., 0., ..., 0., 0., 0.],\n",
       "       [0., 0., 0., ..., 0., 0., 0.],\n",
       "       [0., 0., 0., ..., 0., 0., 0.],\n",
       "       ...,\n",
       "       [0., 0., 0., ..., 0., 0., 0.],\n",
       "       [0., 0., 0., ..., 0., 0., 0.],\n",
       "       [0., 0., 0., ..., 0., 0., 0.]])"
      ]
     },
     "execution_count": 46,
     "metadata": {},
     "output_type": "execute_result"
    }
   ],
   "source": [
    "transR"
   ]
  },
  {
   "cell_type": "code",
   "execution_count": null,
   "metadata": {
    "collapsed": true
   },
   "outputs": [],
   "source": [
    "#########"
   ]
  },
  {
   "cell_type": "code",
   "execution_count": 33,
   "metadata": {
    "collapsed": true
   },
   "outputs": [],
   "source": [
    "######### corner cases for blowing off the grid ########\n",
    "transL[0][10] += w / 4\n",
    "transL[0][1] += w / 4\n",
    "transU[0][10] += w / 4\n",
    "transU[0][1] += w / 4\n",
    "\n",
    "transL[9][8] += w / 4\n",
    "transL[9][19] += w / 4\n",
    "transD[9][8] += w / 4\n",
    "transD[9][19] += w / 4\n",
    "\n",
    "transR[90][80] += w / 4\n",
    "transR[90][91] += w / 4\n",
    "transU[90][80] += w / 4\n",
    "transU[90][91] += w / 4\n",
    "\n",
    "transR[99][89] += w / 4\n",
    "transR[99][98] += w / 4\n",
    "transD[99][89] += w / 4\n",
    "transD[99][98] += w / 4"
   ]
  },
  {
   "cell_type": "code",
   "execution_count": 34,
   "metadata": {
    "collapsed": false
   },
   "outputs": [],
   "source": [
    "######### corner cases for blowing off the grid to stay in the same state########\n",
    "transL[0][0] += 1 - w + w/4 + w/4\n",
    "transU[0][0] += 1 - w + w/4 + w/4\n",
    "transL[9][9] += 1 - w + w/4 + w/4\n",
    "transD[9][9] += 1 - w + w/4 + w/4\n",
    "transR[90][90] += 1 - w + w/4 + w/4\n",
    "transU[90][90] += 1 - w + w/4 + w/4\n",
    "transR[99][99] += 1 - w + w/4 + w/4\n",
    "transD[99][99] += 1 - w + w/4 + w/4"
   ]
  },
  {
   "cell_type": "code",
   "execution_count": null,
   "metadata": {
    "collapsed": true
   },
   "outputs": [],
   "source": [
    "######### corner cases for staying in the grid to stay in the same state########\n",
    "transR[0][0] += w/4 + w/4\n",
    "transD[0][0] += w/4 + w/4\n",
    "transR[9][9] += w/4 + w/4\n",
    "transU[9][9] += w/4 + w/4\n",
    "transL[90][90] += w/4 + w/4\n",
    "transD[90][90] += w/4 + w/4\n",
    "transL[99][99] += w/4 + w/4\n",
    "transU[99][99] += w/4 + w/4"
   ]
  },
  {
   "cell_type": "code",
   "execution_count": null,
   "metadata": {
    "collapsed": true
   },
   "outputs": [],
   "source": [
    "######### edge cases for blowing off the grid to stay in the same state########"
   ]
  },
  {
   "cell_type": "code",
   "execution_count": 44,
   "metadata": {
    "collapsed": false
   },
   "outputs": [],
   "source": [
    "########## Prob calculation along intended direction for all cases ###########\n",
    "for i in range(10):\n",
    "    for j in range(10):\n",
    "            if(i * 10 + j - 10 >= 0):\n",
    "                transL[i * 10 + j][i * 10 + j - 10] = 1 - w + w / 4\n",
    "            if(i * 10 + j + 10 < 100):\n",
    "                transR[i * 10 + j][i * 10 + j + 10] = 1 - w + w / 4\n",
    "            if(i * 10 + j - 1 >= 0):\n",
    "                transU[i * 10 + j][i * 10 + j - 1] = 1 - w + w / 4\n",
    "            if(i * 10 + j + 1 < 100):\n",
    "                transD[i * 10 + j][i * 10 + j + 1] = 1 - w + w / 4"
   ]
  },
  {
   "cell_type": "code",
   "execution_count": 54,
   "metadata": {
    "collapsed": true
   },
   "outputs": [],
   "source": [
    "ec_cases = []\n",
    "for i in range(10):\n",
    "    ec_cases.append(i)\n",
    "for i in range(9, 100, 10):\n",
    "    ec_cases.append(i)\n",
    "for i in range(90, 100):\n",
    "    ec_cases.append(i)\n",
    "for i in range(0, 100, 10):\n",
    "    ec_cases.append(i)"
   ]
  },
  {
   "cell_type": "code",
   "execution_count": 55,
   "metadata": {
    "collapsed": false
   },
   "outputs": [
    {
     "data": {
      "text/plain": [
       "[0,\n",
       " 1,\n",
       " 2,\n",
       " 3,\n",
       " 4,\n",
       " 5,\n",
       " 6,\n",
       " 7,\n",
       " 8,\n",
       " 9,\n",
       " 9,\n",
       " 19,\n",
       " 29,\n",
       " 39,\n",
       " 49,\n",
       " 59,\n",
       " 69,\n",
       " 79,\n",
       " 89,\n",
       " 99,\n",
       " 90,\n",
       " 91,\n",
       " 92,\n",
       " 93,\n",
       " 94,\n",
       " 95,\n",
       " 96,\n",
       " 97,\n",
       " 98,\n",
       " 99,\n",
       " 0,\n",
       " 10,\n",
       " 20,\n",
       " 30,\n",
       " 40,\n",
       " 50,\n",
       " 60,\n",
       " 70,\n",
       " 80,\n",
       " 90]"
      ]
     },
     "execution_count": 55,
     "metadata": {},
     "output_type": "execute_result"
    }
   ],
   "source": [
    "ec_cases"
   ]
  },
  {
   "cell_type": "code",
   "execution_count": 47,
   "metadata": {
    "collapsed": true
   },
   "outputs": [],
   "source": [
    "########## Prob calc along the direction unintended ###########\n",
    "for i in range(10):\n",
    "    for j in range(10):\n",
    "            #Left#\n",
    "            if(i * 10 + j + 10 < 100):\n",
    "                transR[i * 10 + j][i * 10 + j + 10] += w / 4\n",
    "            if(i * 10 + j - 1 >= 0):\n",
    "                transU[i * 10 + j][i * 10 + j - 1] += w / 4\n",
    "            if(i * 10 + j + 1 < 100):\n",
    "                transD[i * 10 + j][i * 10 + j + 1] += w / 4\n",
    "\n",
    "            #Right#\n",
    "            if(i * 10 + j - 10 >= 0):\n",
    "                transL[i * 10 + j][i * 10 + j - 10] += w / 4\n",
    "            if(i * 10 + j - 1 >= 0):\n",
    "                transU[i * 10 + j][i * 10 + j - 1] += w / 4\n",
    "            if(i * 10 + j + 1 < 100):\n",
    "                transD[i * 10 + j][i * 10 + j + 1] += w / 4\n",
    "\n",
    "            #Up#\n",
    "            if(i * 10 + j - 10 >= 0):\n",
    "                transL[i * 10 + j][i * 10 + j - 10] += w / 4\n",
    "            if(i * 10 + j + 10 < 100):\n",
    "                transR[i * 10 + j][i * 10 + j + 10] += w / 4\n",
    "            if(i * 10 + j + 1 < 100):\n",
    "                transD[i * 10 + j][i * 10 + j + 1] += w / 4\n",
    "\n",
    "            #Down#\n",
    "            if(i * 10 + j - 10 >= 0):\n",
    "                transL[i * 10 + j][i * 10 + j - 10] += w / 4\n",
    "            if(i * 10 + j + 10 < 100):\n",
    "                transR[i * 10 + j][i * 10 + j + 10] += w / 4\n",
    "            if(i * 10 + j - 1 >= 0):\n",
    "                transU[i * 10 + j][i * 10 + j - 1] += w / 4             "
   ]
  },
  {
   "cell_type": "code",
   "execution_count": 56,
   "metadata": {
    "collapsed": true
   },
   "outputs": [],
   "source": [
    "############## Edge and corner cases unintended stay for same state ############\n",
    "for i in ec_cases:\n",
    "    if i - 10 >= 0:\n",
    "        transL[i][i] = w / 4\n",
    "    if i + 10 < 100:\n",
    "        transR[i][i] = w / 4\n",
    "    if i - 1 >= 0:\n",
    "        transU[i][i] = w / 4\n",
    "    if i + 1 < 100:\n",
    "        transD[i][i] = w / 4"
   ]
  },
  {
   "cell_type": "code",
   "execution_count": 57,
   "metadata": {
    "collapsed": true
   },
   "outputs": [],
   "source": [
    "corner_cases = [0, 9, 90, 99]"
   ]
  },
  {
   "cell_type": "code",
   "execution_count": null,
   "metadata": {
    "collapsed": true
   },
   "outputs": [],
   "source": [
    "################# Edge and corner cases unintended move off for same state #######\n",
    "for i in list(dict.fromkeys(ec_cases)):\n",
    "    if i in corner_cases:\n",
    "        if i - 10 >= 0:\n",
    "            transL[i][i] += 1 - w + w / 4 + w / 4\n",
    "        if i + 10 < 100:\n",
    "            transR[i][i] += 1 - w + w / 4 + w / 4\n",
    "        if i - 1 >= 0:\n",
    "            transU[i][i] += 1 - w + w / 4 + w / 4\n",
    "        if i + 1 < 100:\n",
    "            transD[i][i] += 1 - w + w / 4 + w / 4\n",
    "    else:\n",
    "            transL[i][i] += w / 4\n",
    "        if i + 10 < 100:\n",
    "            transR[i][i] += w / 4\n",
    "        if i - 1 >= 0:\n",
    "            transU[i][i] += w / 4\n",
    "        if i + 1 < 100:\n",
    "            transD[i][i] += w / 4"
   ]
  }
 ],
 "metadata": {
  "anaconda-cloud": {},
  "kernelspec": {
   "display_name": "Python [conda env:py36]",
   "language": "python",
   "name": "conda-env-py36-py"
  },
  "language_info": {
   "codemirror_mode": {
    "name": "ipython",
    "version": 3
   },
   "file_extension": ".py",
   "mimetype": "text/x-python",
   "name": "python",
   "nbconvert_exporter": "python",
   "pygments_lexer": "ipython3",
   "version": "3.6.7"
  }
 },
 "nbformat": 4,
 "nbformat_minor": 1
}
