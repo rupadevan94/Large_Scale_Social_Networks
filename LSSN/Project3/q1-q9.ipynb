{
 "cells": [
  {
   "cell_type": "code",
   "execution_count": null,
   "metadata": {
    "collapsed": true
   },
   "outputs": [],
   "source": []
  },
  {
   "cell_type": "code",
   "execution_count": 52,
   "metadata": {
    "collapsed": false
   },
   "outputs": [],
   "source": [
    "import numpy as np\n",
    "import matplotlib.pyplot as plt"
   ]
  },
  {
   "cell_type": "code",
   "execution_count": 53,
   "metadata": {
    "collapsed": false,
    "scrolled": true
   },
   "outputs": [],
   "source": [
    "#############State Space############"
   ]
  },
  {
   "cell_type": "code",
   "execution_count": 54,
   "metadata": {
    "collapsed": false
   },
   "outputs": [],
   "source": [
    "state_space = np.zeros((10, 10))\n",
    "for i in range(10):\n",
    "    for j in range(10):\n",
    "        state_space[i][j] = i * 10 + j\n",
    "state_space = np.transpose(state_space)"
   ]
  },
  {
   "cell_type": "code",
   "execution_count": 55,
   "metadata": {
    "collapsed": false
   },
   "outputs": [
    {
     "data": {
      "text/plain": [
       "array([[ 0., 10., 20., 30., 40., 50., 60., 70., 80., 90.],\n",
       "       [ 1., 11., 21., 31., 41., 51., 61., 71., 81., 91.],\n",
       "       [ 2., 12., 22., 32., 42., 52., 62., 72., 82., 92.],\n",
       "       [ 3., 13., 23., 33., 43., 53., 63., 73., 83., 93.],\n",
       "       [ 4., 14., 24., 34., 44., 54., 64., 74., 84., 94.],\n",
       "       [ 5., 15., 25., 35., 45., 55., 65., 75., 85., 95.],\n",
       "       [ 6., 16., 26., 36., 46., 56., 66., 76., 86., 96.],\n",
       "       [ 7., 17., 27., 37., 47., 57., 67., 77., 87., 97.],\n",
       "       [ 8., 18., 28., 38., 48., 58., 68., 78., 88., 98.],\n",
       "       [ 9., 19., 29., 39., 49., 59., 69., 79., 89., 99.]])"
      ]
     },
     "execution_count": 55,
     "metadata": {},
     "output_type": "execute_result"
    }
   ],
   "source": [
    "state_space"
   ]
  },
  {
   "cell_type": "code",
   "execution_count": 56,
   "metadata": {
    "collapsed": false
   },
   "outputs": [],
   "source": [
    "actions = ('R', 'L', 'U', 'D')"
   ]
  },
  {
   "cell_type": "code",
   "execution_count": 57,
   "metadata": {
    "collapsed": true
   },
   "outputs": [],
   "source": [
    "############### Transition probabilities ###################"
   ]
  },
  {
   "cell_type": "code",
   "execution_count": 58,
   "metadata": {
    "collapsed": true
   },
   "outputs": [],
   "source": [
    "w = 0.1"
   ]
  },
  {
   "cell_type": "code",
   "execution_count": 59,
   "metadata": {
    "collapsed": true
   },
   "outputs": [],
   "source": [
    "############## One dir at a time #########"
   ]
  },
  {
   "cell_type": "code",
   "execution_count": 60,
   "metadata": {
    "collapsed": true
   },
   "outputs": [],
   "source": [
    "transR = np.zeros((100, 100))"
   ]
  },
  {
   "cell_type": "code",
   "execution_count": 61,
   "metadata": {
    "collapsed": true
   },
   "outputs": [],
   "source": [
    "for i in range(10):\n",
    "    for j in range(10):\n",
    "        ind = i * 10 + j\n",
    "        # Intended left action\n",
    "        if(ind - 10 < 0):\n",
    "            transR[ind][ind] += w / 4\n",
    "        else:\n",
    "            transR[ind][ind - 10] = w / 4\n",
    "        # Intended right action\n",
    "        if(ind + 10 >= 100):\n",
    "            transR[ind][ind] += w / 4\n",
    "        else:\n",
    "            transR[ind][ind + 10] = 1 - w + w / 4\n",
    "        # Intended up action\n",
    "        if(ind in state_space[0]):\n",
    "            transR[ind][ind] += w / 4\n",
    "        else:\n",
    "            transR[ind][ind - 1] = w / 4\n",
    "        # Intended down action\n",
    "        if(ind in state_space[9]):\n",
    "            transR[ind][ind] += w / 4\n",
    "        else:\n",
    "            transR[ind][ind + 1] = w / 4\n",
    "        # Blowing off on the right side\n",
    "        if(ind + 10 > 99):\n",
    "            transR[ind][ind] += 1 - w"
   ]
  },
  {
   "cell_type": "code",
   "execution_count": 62,
   "metadata": {
    "collapsed": false
   },
   "outputs": [],
   "source": [
    "transL = np.zeros((100, 100))"
   ]
  },
  {
   "cell_type": "code",
   "execution_count": 63,
   "metadata": {
    "collapsed": true
   },
   "outputs": [],
   "source": [
    "for i in range(10):\n",
    "    for j in range(10):\n",
    "        ind = i * 10 + j\n",
    "        # Intended left action\n",
    "        if(ind - 10 < 0):\n",
    "            transL[ind][ind] += w / 4\n",
    "        else:\n",
    "            transL[ind][ind - 10] = 1 - w + w / 4\n",
    "        # Intended right action\n",
    "        if(ind + 10 >= 100):\n",
    "            transL[ind][ind] += w / 4\n",
    "        else:\n",
    "            transL[ind][ind + 10] = w / 4\n",
    "        # Intended up action\n",
    "        if(ind in state_space[0]):\n",
    "            transL[ind][ind] += w / 4\n",
    "        else:\n",
    "            transL[ind][ind - 1] = w / 4\n",
    "        # Intended down action\n",
    "        if(ind in state_space[9]):\n",
    "            transL[ind][ind] += w / 4\n",
    "        else:\n",
    "            transL[ind][ind + 1] = w / 4\n",
    "        # Blowing off on the left side\n",
    "        if(ind - 10 < 0):\n",
    "            transL[ind][ind] += 1 - w"
   ]
  },
  {
   "cell_type": "code",
   "execution_count": 64,
   "metadata": {
    "collapsed": true
   },
   "outputs": [],
   "source": [
    "transU = np.zeros((100, 100))"
   ]
  },
  {
   "cell_type": "code",
   "execution_count": 65,
   "metadata": {
    "collapsed": true
   },
   "outputs": [],
   "source": [
    "for i in range(10):\n",
    "    for j in range(10):\n",
    "        ind = i * 10 + j\n",
    "        # Intended left action\n",
    "        if(ind - 10 < 0):\n",
    "            transU[ind][ind] += w / 4\n",
    "        else:\n",
    "            transU[ind][ind - 10] = w / 4\n",
    "        # Intended right action\n",
    "        if(ind + 10 >= 100):\n",
    "            transU[ind][ind] += w / 4\n",
    "        else:\n",
    "            transU[ind][ind + 10] = w / 4\n",
    "        # Intended up action\n",
    "        if(ind in state_space[0]):\n",
    "            transU[ind][ind] += w / 4\n",
    "        else:\n",
    "            transU[ind][ind - 1] = 1 - w + w / 4\n",
    "        # Intended down action\n",
    "        if(ind in state_space[9]):\n",
    "            transU[ind][ind] += w / 4\n",
    "        else:\n",
    "            transU[ind][ind + 1] = w / 4\n",
    "        # Blowing off on the top side\n",
    "        if(ind in state_space[0]):\n",
    "            transU[ind][ind] += 1 - w"
   ]
  },
  {
   "cell_type": "code",
   "execution_count": 66,
   "metadata": {
    "collapsed": true
   },
   "outputs": [],
   "source": [
    "transD = np.zeros((100, 100))"
   ]
  },
  {
   "cell_type": "code",
   "execution_count": 67,
   "metadata": {
    "collapsed": true
   },
   "outputs": [],
   "source": [
    "for i in range(10):\n",
    "    for j in range(10):\n",
    "        ind = i * 10 + j\n",
    "        # Intended left action\n",
    "        if(ind - 10 < 0):\n",
    "            transD[ind][ind] += w / 4\n",
    "        else:\n",
    "            transD[ind][ind - 10] = w / 4\n",
    "        # Intended right action\n",
    "        if(ind + 10 >= 100):\n",
    "            transD[ind][ind] += w / 4\n",
    "        else:\n",
    "            transD[ind][ind + 10] = w / 4\n",
    "        # Intended up action\n",
    "        if(ind in state_space[0]):\n",
    "            transD[ind][ind] += w / 4\n",
    "        else:\n",
    "            transD[ind][ind - 1] = w / 4\n",
    "        # Intended down action\n",
    "        if(ind in state_space[9]):\n",
    "            transD[ind][ind] += w / 4\n",
    "        else:\n",
    "            transD[ind][ind + 1] = 1 - w + w / 4\n",
    "        # Blowing off on the bottom side\n",
    "        if(ind in state_space[9]):\n",
    "            transD[ind][ind] += 1 - w"
   ]
  },
  {
   "cell_type": "code",
   "execution_count": 68,
   "metadata": {
    "collapsed": true
   },
   "outputs": [],
   "source": [
    "#############################"
   ]
  },
  {
   "cell_type": "code",
   "execution_count": 69,
   "metadata": {
    "collapsed": true
   },
   "outputs": [],
   "source": [
    "############ Reward function #################"
   ]
  },
  {
   "cell_type": "code",
   "execution_count": 70,
   "metadata": {
    "collapsed": true
   },
   "outputs": [],
   "source": [
    "reward1 = np.zeros((10, 10))\n",
    "reward1[9, 9] = 1.0"
   ]
  },
  {
   "cell_type": "code",
   "execution_count": 71,
   "metadata": {
    "collapsed": false
   },
   "outputs": [
    {
     "data": {
      "text/plain": [
       "1.0"
      ]
     },
     "execution_count": 71,
     "metadata": {},
     "output_type": "execute_result"
    }
   ],
   "source": [
    "reward1[9, 9]"
   ]
  },
  {
   "cell_type": "code",
   "execution_count": 72,
   "metadata": {
    "collapsed": true
   },
   "outputs": [],
   "source": [
    "reward2 = np.zeros((10, 10))"
   ]
  },
  {
   "cell_type": "code",
   "execution_count": 121,
   "metadata": {
    "collapsed": true
   },
   "outputs": [],
   "source": [
    "rf2=np.matrix([[ 0,  0,  0,  0,  0,  0,  0,  0,  0,  0],\n",
    " [ 0,  0,  0,  0,  -100,  -100,  -100,  0,  0,  0],\n",
    " [ 0,  0,  0,  0,  -100,  0,  -100,  0,  0,  0],\n",
    " [ 0,  0,  0,  0,  -100,  0,  -100,  -100,  -100,  0],\n",
    " [ 0,  0,  0,  0,  -100,  0,  0,  0,  -100,  0],\n",
    " [ 0,  0,  0,  0,  -100,  0,  0,  0,  -100,  0],\n",
    " [ 0,  0,  0,  0,  -100,  0,  0,  0,  -100,  0],\n",
    " [ 0,  0,  0,  0,  0,  0,  -100,  -100,  -100,  0],\n",
    " [ 0,  0,  0,  0,  0,  0,  -100,  0,  0,  0],\n",
    " [ 0,  0,  0,  0,  0,  0,  0,  0,  0,  10]])"
   ]
  },
  {
   "cell_type": "code",
   "execution_count": 73,
   "metadata": {
    "collapsed": false
   },
   "outputs": [],
   "source": [
    "reward2[1:7, 4] = -100.0\n",
    "reward2[1, 5] = -100.0\n",
    "reward2[1:4, 6] = -100.0\n",
    "reward2[7:9, 6] = -100.0\n",
    "reward2[3, 7] = -100.0\n",
    "reward2[7, 7] = -100.0\n",
    "reward2[3:8, 8] = -100.0\n",
    "reward2[9, 9] = 10.0"
   ]
  },
  {
   "cell_type": "code",
   "execution_count": 122,
   "metadata": {
    "collapsed": false
   },
   "outputs": [
    {
     "data": {
      "text/plain": [
       "matrix([[ True,  True,  True,  True,  True,  True,  True,  True,  True,\n",
       "          True],\n",
       "        [ True,  True,  True,  True,  True,  True,  True,  True,  True,\n",
       "          True],\n",
       "        [ True,  True,  True,  True,  True,  True,  True,  True,  True,\n",
       "          True],\n",
       "        [ True,  True,  True,  True,  True,  True,  True,  True,  True,\n",
       "          True],\n",
       "        [ True,  True,  True,  True,  True,  True,  True,  True,  True,\n",
       "          True],\n",
       "        [ True,  True,  True,  True,  True,  True,  True,  True,  True,\n",
       "          True],\n",
       "        [ True,  True,  True,  True,  True,  True,  True,  True,  True,\n",
       "          True],\n",
       "        [ True,  True,  True,  True,  True,  True,  True,  True,  True,\n",
       "          True],\n",
       "        [ True,  True,  True,  True,  True,  True,  True,  True,  True,\n",
       "          True],\n",
       "        [ True,  True,  True,  True,  True,  True,  True,  True,  True,\n",
       "          True]])"
      ]
     },
     "execution_count": 122,
     "metadata": {},
     "output_type": "execute_result"
    }
   ],
   "source": [
    "reward2 == rf2"
   ]
  },
  {
   "cell_type": "code",
   "execution_count": 75,
   "metadata": {
    "collapsed": false
   },
   "outputs": [
    {
     "data": {
      "image/png": "[encoded data removed]",
      "text/plain": [
       "<Figure size 432x288 with 1 Axes>"
      ]
     },
     "metadata": {
      "needs_background": "light"
     },
     "output_type": "display_data"
    }
   ],
   "source": [
    "plt.pcolor(reward1, )\n",
    "plt.gca().invert_yaxis()\n",
    "plt.show()"
   ]
  },
  {
   "cell_type": "code",
   "execution_count": 76,
   "metadata": {
    "collapsed": false
   },
   "outputs": [
    {
     "data": {
      "image/png": "[encoded data removed]",
      "text/plain": [
       "<Figure size 432x288 with 1 Axes>"
      ]
     },
     "metadata": {
      "needs_background": "light"
     },
     "output_type": "display_data"
    }
   ],
   "source": [
    "plt.pcolor(reward2)\n",
    "plt.gca().invert_yaxis()\n",
    "plt.show()"
   ]
  },
  {
   "cell_type": "code",
   "execution_count": 77,
   "metadata": {
    "collapsed": true
   },
   "outputs": [],
   "source": [
    "########################"
   ]
  },
  {
   "cell_type": "code",
   "execution_count": 78,
   "metadata": {
    "collapsed": true
   },
   "outputs": [],
   "source": [
    "gamma = 0.8"
   ]
  },
  {
   "cell_type": "code",
   "execution_count": 79,
   "metadata": {
    "collapsed": true
   },
   "outputs": [],
   "source": [
    "def optimal_state_value(transL, transR, transU, transD, reward, gamma):\n",
    "    v = np.zeros(100)\n",
    "    delta = np.inf\n",
    "    epsilon = 0.01\n",
    "    while(delta > epsilon):\n",
    "        delta = 0\n",
    "        v_dash = np.copy(v)\n",
    "        for s in range(100):\n",
    "            temp_v = v_dash[s]\n",
    "            l = np.sum(transL[s] * (reward.flatten() + gamma * v_dash))\n",
    "            r = np.sum(transR[s] * (reward.flatten() + gamma * v_dash))\n",
    "            u = np.sum(transU[s] * (reward.flatten() + gamma * v_dash))\n",
    "            d = np.sum(transD[s] * (reward.flatten() + gamma * v_dash))\n",
    "            \n",
    "            #print(l)\n",
    "            v[s] = max(l, r, u, d)\n",
    "            delta = max(delta, abs(temp_v - v[s]))\n",
    "    return v"
   ]
  },
  {
   "cell_type": "code",
   "execution_count": 80,
   "metadata": {
    "collapsed": false
   },
   "outputs": [],
   "source": [
    "v = optimal_state_value(transL, transR, transU, transD, reward1, gamma)"
   ]
  },
  {
   "cell_type": "code",
   "execution_count": 81,
   "metadata": {
    "collapsed": false
   },
   "outputs": [
    {
     "data": {
      "text/plain": [
       "array([0.0442397 , 0.06457398, 0.09118409, 0.12504106, 0.16807826,\n",
       "       0.22269335, 0.29198796, 0.37988042, 0.49134892, 0.61001145,\n",
       "       0.06457398, 0.08833385, 0.12185345, 0.16476116, 0.21945345,\n",
       "       0.28917752, 0.37804302, 0.49122817, 0.63338372, 0.78751905,\n",
       "       0.09118409, 0.12185345, 0.16458987, 0.21930412, 0.28906986,\n",
       "       0.3779887 , 0.49131731, 0.63565109, 0.81751608, 1.01875794,\n",
       "       0.12504106, 0.16476116, 0.21930412, 0.28906536, 0.37798653,\n",
       "       0.49132035, 0.63576137, 0.81977022, 1.05235181, 1.31521922,\n",
       "       0.16807826, 0.21945345, 0.28906986, 0.37798653, 0.49132036,\n",
       "       0.63576402, 0.81985582, 1.05442573, 1.35173221, 1.69523349,\n",
       "       0.22269335, 0.28917752, 0.3779887 , 0.49132035, 0.63576402,\n",
       "       0.81985701, 1.05448231, 1.35348475, 1.73334073, 2.18239181,\n",
       "       0.29198796, 0.37804302, 0.49131731, 0.63576137, 0.81985582,\n",
       "       1.05448231, 1.3535115 , 1.73462151, 2.21968743, 2.80696303,\n",
       "       0.37988042, 0.49122817, 0.63565109, 0.81977022, 1.05442573,\n",
       "       1.35348475, 1.73462151, 2.22036214, 2.83941767, 3.60778693,\n",
       "       0.49134892, 0.63338372, 0.81751608, 1.05235181, 1.35173221,\n",
       "       1.73334073, 2.21968743, 2.83941767, 3.62897444, 4.63470773,\n",
       "       0.61001145, 0.78751905, 1.01875794, 1.31521922, 1.69523349,\n",
       "       2.18239181, 2.80696303, 3.60778693, 4.63470773, 4.70170068])"
      ]
     },
     "execution_count": 81,
     "metadata": {},
     "output_type": "execute_result"
    }
   ],
   "source": [
    "v"
   ]
  },
  {
   "cell_type": "code",
   "execution_count": 82,
   "metadata": {
    "collapsed": false
   },
   "outputs": [
    {
     "data": {
      "image/png": "[encoded data removed]",
      "text/plain": [
       "<Figure size 432x288 with 1 Axes>"
      ]
     },
     "metadata": {
      "needs_background": "light"
     },
     "output_type": "display_data"
    }
   ],
   "source": [
    "plt.pcolor(v.reshape((10, 10)))\n",
    "plt.gca().invert_yaxis()\n",
    "plt.show()"
   ]
  },
  {
   "cell_type": "code",
   "execution_count": 129,
   "metadata": {
    "collapsed": true
   },
   "outputs": [],
   "source": [
    "def optimal_policy(transL, transR, transU, transD, reward, gamma):\n",
    "    v = optimal_state_value(transL, transR, transU, transD, reward, gamma)\n",
    "    print(v)\n",
    "    action = np.zeros(100)\n",
    "    rew = np.transpose(reward).flatten()\n",
    "    for s in range(100):\n",
    "        l = np.sum(transL[s] * (rew + gamma * v))\n",
    "        r = np.sum(transR[s] * (rew + gamma * v))\n",
    "        u = np.sum(transU[s] * (rew + gamma * v))\n",
    "        d = np.sum(transD[s] * (rew + gamma * v))\n",
    "            \n",
    "        #print(l)\n",
    "        action[s] = np.argmax([l, r, u, d])\n",
    "\n",
    "    return action"
   ]
  },
  {
   "cell_type": "code",
   "execution_count": 100,
   "metadata": {
    "collapsed": false
   },
   "outputs": [
    {
     "data": {
      "text/plain": [
       "array([ True,  True,  True,  True,  True,  True,  True,  True,  True,\n",
       "        True,  True,  True,  True,  True,  True,  True,  True,  True,\n",
       "        True,  True,  True,  True,  True,  True,  True,  True,  True,\n",
       "        True,  True,  True,  True,  True,  True,  True,  True,  True,\n",
       "        True,  True,  True,  True,  True,  True,  True,  True,  True,\n",
       "        True,  True,  True,  True,  True,  True,  True,  True,  True,\n",
       "        True,  True,  True,  True,  True,  True,  True,  True,  True,\n",
       "        True,  True,  True,  True,  True,  True,  True,  True,  True,\n",
       "        True,  True,  True,  True,  True,  True,  True,  True,  True,\n",
       "        True,  True,  True,  True,  True,  True,  True,  True,  True,\n",
       "        True,  True,  True,  True,  True,  True,  True,  True,  True,\n",
       "        True])"
      ]
     },
     "execution_count": 100,
     "metadata": {},
     "output_type": "execute_result"
    }
   ],
   "source": [
    "np.asarray(np.transpose(reward2)).reshape(-1) == np.transpose(reward2).flatten()"
   ]
  },
  {
   "cell_type": "code",
   "execution_count": 123,
   "metadata": {
    "collapsed": false
   },
   "outputs": [
    {
     "data": {
      "text/plain": [
       "array([False,  True,  True,  True,  True,  True,  True,  True,  True,\n",
       "        True,  True,  True,  True,  True,  True,  True,  True,  True,\n",
       "        True,  True,  True,  True,  True,  True,  True,  True,  True,\n",
       "        True,  True,  True,  True,  True,  True,  True,  True,  True,\n",
       "        True,  True,  True,  True,  True,  True,  True,  True,  True,\n",
       "        True,  True,  True,  True,  True,  True,  True,  True,  True,\n",
       "        True,  True,  True,  True,  True,  True,  True,  True,  True,\n",
       "        True,  True,  True,  True,  True,  True,  True,  True,  True,\n",
       "        True,  True,  True,  True,  True, False,  True,  True,  True,\n",
       "        True,  True,  True,  True,  True,  True,  True,  True,  True,\n",
       "        True,  True,  True,  True,  True,  True,  True,  True,  True,\n",
       "        True])"
      ]
     },
     "execution_count": 123,
     "metadata": {},
     "output_type": "execute_result"
    }
   ],
   "source": [
    "actions == [3., 3., 3., 3., 3., 3., 3., 3., 1., 1., 1., 1., 3., 3., 3., 3., 1., 1., 1., 1., 1., 1., 1., 3.,\n",
    " 3., 1., 1., 1., 1., 1., 1., 1., 1., 1., 1., 1., 1., 1., 1., 1., 1., 1., 1., 3., 1., 1., 1., 1.,\n",
    " 1., 1., 1., 1., 3., 3., 3., 1., 1., 1., 1., 1., 1., 3., 3., 3., 3., 3., 1., 1., 1., 1., 1., 3.,\n",
    " 3., 3., 3., 3., 3., 3., 1., 1., 3., 3., 3., 3., 3., 3., 3., 3., 1., 1., 3., 3., 3., 3., 3., 3.,\n",
    " 3., 3., 3., 1.]"
   ]
  },
  {
   "cell_type": "code",
   "execution_count": 102,
   "metadata": {
    "collapsed": false
   },
   "outputs": [
    {
     "data": {
      "text/plain": [
       "3"
      ]
     },
     "execution_count": 102,
     "metadata": {},
     "output_type": "execute_result"
    }
   ],
   "source": [
    "np.argmax([4, 2, 3, 5])"
   ]
  },
  {
   "cell_type": "code",
   "execution_count": 103,
   "metadata": {
    "collapsed": false
   },
   "outputs": [
    {
     "data": {
      "text/plain": [
       "3"
      ]
     },
     "execution_count": 103,
     "metadata": {},
     "output_type": "execute_result"
    }
   ],
   "source": [
    "[4, 2, 3, 5].index(np.amax([4, 2, 3, 5]))"
   ]
  },
  {
   "cell_type": "code",
   "execution_count": 114,
   "metadata": {
    "collapsed": true
   },
   "outputs": [],
   "source": [
    "def get_arrows(actions):\n",
    "    arrows = [\"\" for x in range(100)]\n",
    "    for i in range(100):\n",
    "        if(actions[i]==0):\n",
    "            arrows[i]=u'\\u2190'\n",
    "        elif(actions[i]==1):\n",
    "            arrows[i]=u'\\u2192'\n",
    "        elif(actions[i]==2):\n",
    "            arrows[i]=u'\\u2191'\n",
    "        elif(actions[i]==3):\n",
    "            arrows[i]=u'\\u2193'\n",
    "    return arrows"
   ]
  },
  {
   "cell_type": "code",
   "execution_count": 120,
   "metadata": {
    "collapsed": false
   },
   "outputs": [
    {
     "name": "stdout",
     "output_type": "stream",
     "text": [
      "→\n"
     ]
    }
   ],
   "source": [
    "print(u'\\u2192')"
   ]
  },
  {
   "cell_type": "code",
   "execution_count": 130,
   "metadata": {
    "collapsed": false
   },
   "outputs": [
    {
     "name": "stdout",
     "output_type": "stream",
     "text": [
      "[0.0442397  0.06457398 0.09118409 0.12504106 0.16807826 0.22269335\n",
      " 0.29198796 0.37988042 0.49134892 0.61001145 0.06457398 0.08833385\n",
      " 0.12185345 0.16476116 0.21945345 0.28917752 0.37804302 0.49122817\n",
      " 0.63338372 0.78751905 0.09118409 0.12185345 0.16458987 0.21930412\n",
      " 0.28906986 0.3779887  0.49131731 0.63565109 0.81751608 1.01875794\n",
      " 0.12504106 0.16476116 0.21930412 0.28906536 0.37798653 0.49132035\n",
      " 0.63576137 0.81977022 1.05235181 1.31521922 0.16807826 0.21945345\n",
      " 0.28906986 0.37798653 0.49132036 0.63576402 0.81985582 1.05442573\n",
      " 1.35173221 1.69523349 0.22269335 0.28917752 0.3779887  0.49132035\n",
      " 0.63576402 0.81985701 1.05448231 1.35348475 1.73334073 2.18239181\n",
      " 0.29198796 0.37804302 0.49131731 0.63576137 0.81985582 1.05448231\n",
      " 1.3535115  1.73462151 2.21968743 2.80696303 0.37988042 0.49122817\n",
      " 0.63565109 0.81977022 1.05442573 1.35348475 1.73462151 2.22036214\n",
      " 2.83941767 3.60778693 0.49134892 0.63338372 0.81751608 1.05235181\n",
      " 1.35173221 1.73334073 2.21968743 2.83941767 3.62897444 4.63470773\n",
      " 0.61001145 0.78751905 1.01875794 1.31521922 1.69523349 2.18239181\n",
      " 2.80696303 3.60778693 4.63470773 4.70170068]\n",
      "[['→' '→' '→' '→' '→' '→' '→' '→' '↓' '↓']\n",
      " ['↓' '→' '→' '→' '→' '→' '↓' '↓' '↓' '↓']\n",
      " ['↓' '↓' '→' '→' '→' '↓' '↓' '↓' '↓' '↓']\n",
      " ['↓' '↓' '↓' '→' '↓' '↓' '↓' '↓' '↓' '↓']\n",
      " ['↓' '↓' '↓' '→' '→' '↓' '↓' '↓' '↓' '↓']\n",
      " ['↓' '↓' '→' '→' '→' '→' '↓' '↓' '↓' '↓']\n",
      " ['↓' '→' '→' '→' '→' '→' '→' '↓' '↓' '↓']\n",
      " ['↓' '→' '→' '→' '→' '→' '→' '→' '↓' '↓']\n",
      " ['→' '→' '→' '→' '→' '→' '→' '→' '→' '↓']\n",
      " ['→' '→' '→' '→' '→' '→' '→' '→' '→' '→']]\n"
     ]
    }
   ],
   "source": [
    "actions = optimal_policy(transL, transR, transU, transD, reward1, gamma)\n",
    "arrows = get_arrows(actions)\n",
    "print(np.transpose(np.asarray(arrows).reshape((10, 10))))"
   ]
  },
  {
   "cell_type": "code",
   "execution_count": 220,
   "metadata": {
    "collapsed": false
   },
   "outputs": [
    {
     "data": {
      "text/plain": [
       "array([['→', '↓', '↓', '↓', '↓', '↓', '↓', '↓', '→', '→'],\n",
       "       ['→', '→', '↓', '↓', '↓', '↓', '→', '→', '→', '→'],\n",
       "       ['→', '→', '→', '↓', '↓', '→', '→', '→', '→', '→'],\n",
       "       ['→', '→', '→', '→', '→', '→', '→', '→', '→', '→'],\n",
       "       ['→', '→', '→', '↓', '→', '→', '→', '→', '→', '→'],\n",
       "       ['→', '→', '↓', '↓', '↓', '→', '→', '→', '→', '→'],\n",
       "       ['→', '↓', '↓', '↓', '↓', '↓', '→', '→', '→', '→'],\n",
       "       ['→', '↓', '↓', '↓', '↓', '↓', '↓', '→', '→', '→'],\n",
       "       ['↓', '↓', '↓', '↓', '↓', '↓', '↓', '↓', '→', '→'],\n",
       "       ['↓', '↓', '↓', '↓', '↓', '↓', '↓', '↓', '↓', '→']], dtype='<U1')"
      ]
     },
     "execution_count": 220,
     "metadata": {},
     "output_type": "execute_result"
    }
   ],
   "source": [
    "np.asarray(arr).reshape((10, 10))"
   ]
  },
  {
   "cell_type": "code",
   "execution_count": 197,
   "metadata": {
    "collapsed": true
   },
   "outputs": [],
   "source": [
    "############ Question 6 #######"
   ]
  },
  {
   "cell_type": "code",
   "execution_count": 125,
   "metadata": {
    "collapsed": true
   },
   "outputs": [],
   "source": [
    "v2 = optimal_state_value(transL, transR, transU, transD, reward2, gamma)"
   ]
  },
  {
   "cell_type": "code",
   "execution_count": 126,
   "metadata": {
    "collapsed": false
   },
   "outputs": [
    {
     "name": "stdout",
     "output_type": "stream",
     "text": [
      "[ 6.46710402e-01  7.90798480e-01  8.20813046e-01  5.25100092e-01\n",
      " -2.38647637e+00 -4.23692968e+00 -1.92337440e+00  1.12809691e+00\n",
      "  1.59116227e+00  2.03482701e+00  8.27724228e-01  1.01773259e+00\n",
      "  1.06157960e+00 -1.87921677e+00 -6.75466905e+00 -8.68371372e+00\n",
      " -6.37348342e+00 -1.29836115e+00  1.92477470e+00  2.60689337e+00\n",
      "  1.06131226e+00  1.31300108e+00  1.44578824e+00 -1.63521080e+00\n",
      " -6.75775652e+00 -1.39166346e+01 -9.65320172e+00 -5.51481504e+00\n",
      " -1.34600438e-01  3.35547821e+00  1.35778625e+00  1.68918212e+00\n",
      "  1.94390703e+00 -1.24321750e+00 -6.33921636e+00 -7.98277134e+00\n",
      " -7.94729165e+00 -9.43445243e+00 -1.91815510e+00  4.38704487e+00\n",
      "  1.73393379e+00  2.16807921e+00  2.58589509e+00 -7.36489716e-01\n",
      " -5.84672738e+00 -3.25840283e+00 -3.24107127e+00 -7.43449847e+00\n",
      "  1.71515827e+00  9.15952421e+00  2.21111919e+00  2.77755323e+00\n",
      "  3.41334536e+00 -3.81397000e-02 -5.11411173e+00 -5.53379765e-01\n",
      " -4.87536492e-01 -2.98351453e+00  6.58269181e+00  1.53537569e+01\n",
      "  2.81642901e+00  3.55296319e+00  4.47882378e+00  3.02435829e+00\n",
      "  2.48020939e+00  2.88015090e+00 -4.65522665e-01 -4.91054945e+00\n",
      "  1.26884635e+01  2.32963889e+01  3.58420160e+00  4.53918578e+00\n",
      "  5.79256872e+00  7.28842004e+00  6.71877276e+00  7.24110158e+00\n",
      "  9.30889950e-01  1.23664375e+01  2.11591651e+01  3.34825772e+01\n",
      "  4.55796714e+00  5.79470476e+00  7.39720343e+00  9.43945467e+00\n",
      "  1.20082007e+01  1.28891834e+01  1.70973448e+01  2.30139700e+01\n",
      "  3.37782513e+01  4.65287906e+01  5.72663251e+00  7.31607876e+00\n",
      "  9.38759574e+00  1.20446873e+01  1.54523553e+01  1.98239741e+01\n",
      "  2.54975058e+01  3.61575942e+01  4.65833827e+01  4.73114711e+01]\n"
     ]
    }
   ],
   "source": [
    "print(v2)"
   ]
  },
  {
   "cell_type": "code",
   "execution_count": 127,
   "metadata": {
    "collapsed": false
   },
   "outputs": [
    {
     "data": {
      "image/png": "[encoded data removed]",
      "text/plain": [
       "<Figure size 432x288 with 1 Axes>"
      ]
     },
     "metadata": {
      "needs_background": "light"
     },
     "output_type": "display_data"
    }
   ],
   "source": [
    "plt.pcolor(v2.reshape((10, 10)))\n",
    "plt.show()"
   ]
  },
  {
   "cell_type": "code",
   "execution_count": 128,
   "metadata": {
    "collapsed": false
   },
   "outputs": [
    {
     "name": "stdout",
     "output_type": "stream",
     "text": [
      "[['→' '→' '→' '→' '→' '→' '→' '→' '↓' '↓']\n",
      " ['→' '→' '→' '↓' '↑' '↓' '→' '→' '↓' '↓']\n",
      " ['→' '→' '→' '↑' '→' '↓' '→' '→' '→' '↓']\n",
      " ['↑' '↑' '↑' '↑' '→' '↑' '↓' '↓' '→' '↓']\n",
      " ['↑' '↑' '↑' '↑' '→' '→' '→' '↓' '→' '↓']\n",
      " ['↓' '←' '↑' '↑' '→' '→' '→' '↑' '→' '↓']\n",
      " ['↓' '↓' '↓' '↑' '→' '→' '↑' '↑' '→' '↓']\n",
      " ['↓' '↓' '↓' '↓' '↓' '↓' '↑' '↓' '→' '↓']\n",
      " ['↓' '↓' '↓' '↓' '↓' '↓' '↓' '→' '→' '↓']\n",
      " ['→' '→' '→' '→' '→' '→' '→' '→' '→' '→']]\n"
     ]
    }
   ],
   "source": [
    "actions2 = optimal_policy(transL, transR, transU, transD, reward2, gamma)\n",
    "arrows2 = get_arrows(actions2)\n",
    "print(np.transpose(np.asarray(arrows2).reshape((10, 10))))"
   ]
  },
  {
   "cell_type": "code",
   "execution_count": null,
   "metadata": {
    "collapsed": true
   },
   "outputs": [],
   "source": []
  }
 ],
 "metadata": {
  "anaconda-cloud": {},
  "kernelspec": {
   "display_name": "Python [conda env:py36]",
   "language": "python",
   "name": "conda-env-py36-py"
  },
  "language_info": {
   "codemirror_mode": {
    "name": "ipython",
    "version": 3
   },
   "file_extension": ".py",
   "mimetype": "text/x-python",
   "name": "python",
   "nbconvert_exporter": "python",
   "pygments_lexer": "ipython3",
   "version": "3.6.7"
  }
 },
 "nbformat": 4,
 "nbformat_minor": 1
}
