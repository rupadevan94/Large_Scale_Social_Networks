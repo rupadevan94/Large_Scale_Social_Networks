{
 "cells": [
  {
   "cell_type": "code",
   "execution_count": 1,
   "metadata": {},
   "outputs": [
    {
     "name": "stdout",
     "output_type": "stream",
     "text": [
      "[nltk_data] Downloading package sentiwordnet to\n",
      "[nltk_data]     /Users/poojajn/nltk_data...\n",
      "[nltk_data]   Package sentiwordnet is already up-to-date!\n"
     ]
    },
    {
     "data": {
      "text/plain": [
       "True"
      ]
     },
     "execution_count": 1,
     "metadata": {},
     "output_type": "execute_result"
    }
   ],
   "source": [
    "import nltk\n",
    "nltk.download('sentiwordnet')"
   ]
  },
  {
   "cell_type": "code",
   "execution_count": 2,
   "metadata": {},
   "outputs": [],
   "source": [
    "from textblob import TextBlob\n",
    "import json\n",
    "import os\n",
    "import re\n",
    "import csv\n",
    "from csv import DictWriter\n",
    "import urllib\n",
    "import datetime\n",
    "import pandas as pd\n",
    "import numpy as np\n",
    "import math\n",
    "import matplotlib.pyplot as plt\n",
    "from nltk.corpus import sentiwordnet as swn\n",
    "import nltk\n",
    "from nltk.corpus import stopwords\n",
    "from nltk.tokenize import word_tokenize\n",
    "import pytz"
   ]
  },
  {
   "cell_type": "code",
   "execution_count": null,
   "metadata": {},
   "outputs": [],
   "source": [
    "import json\n",
    "import csv\n",
    "files= [\"tweets_#gohawks.txt\"] # all the file name in the folder\n",
    "f = open(files[0], encoding=\"utf-8\")\n",
    "# open a file for writing\n",
    "csv_file = open('gohawks.csv', 'w')\n",
    "# create the csv writer object\n",
    "csvwriter = csv.writer(csv_file)\n",
    "count = 0\n",
    "for line in f:\n",
    "    data = json.loads(line)\n",
    "    dict1={}\n",
    "    dict1['location'] = data['tweet']['user']['location']\n",
    "    dict1['citation_date'] = data['citation_date']\n",
    "    dict1['firstpost_date'] = data['firstpost_date']\n",
    "    dict1['tweet'] = data['tweet']['text']\n",
    "    if count==0:\n",
    "        csvwriter.writerow(dict1.keys())\n",
    "        count+=1\n",
    "\n",
    "    csvwriter.writerow(dict1.values())"
   ]
  },
  {
   "cell_type": "code",
   "execution_count": 3,
   "metadata": {},
   "outputs": [],
   "source": [
    "df=pd.read_csv(\"gohawks.csv\")"
   ]
  },
  {
   "cell_type": "code",
   "execution_count": 4,
   "metadata": {},
   "outputs": [
    {
     "data": {
      "text/plain": [
       "location                                            McChord AFB, WA\n",
       "citation_date                                            1421468176\n",
       "firstpost_date                                           1420042851\n",
       "tweet             @FiveThirtyEight #GoHawks. Keep your eyes on t...\n",
       "Name: 5, dtype: object"
      ]
     },
     "execution_count": 4,
     "metadata": {},
     "output_type": "execute_result"
    }
   ],
   "source": [
    "df.iloc[5]"
   ]
  },
  {
   "cell_type": "code",
   "execution_count": 5,
   "metadata": {},
   "outputs": [],
   "source": [
    "pst_tz = pytz.timezone('US/Pacific')"
   ]
  },
  {
   "cell_type": "code",
   "execution_count": 6,
   "metadata": {},
   "outputs": [],
   "source": [
    "pt='Redmund, WA|Seattle, WA|Kirkland, WA|Seattle|Washington|WA$|Kirkland,'\n",
    "pattern_pt ='MA,Boston|MA$|Massachusetts'"
   ]
  },
  {
   "cell_type": "code",
   "execution_count": 7,
   "metadata": {},
   "outputs": [],
   "source": [
    "df=df[df['location'].str.contains(pt, na = False)]"
   ]
  },
  {
   "cell_type": "code",
   "execution_count": 8,
   "metadata": {},
   "outputs": [
    {
     "data": {
      "text/html": [
       "<div>\n",
       "<style scoped>\n",
       "    .dataframe tbody tr th:only-of-type {\n",
       "        vertical-align: middle;\n",
       "    }\n",
       "\n",
       "    .dataframe tbody tr th {\n",
       "        vertical-align: top;\n",
       "    }\n",
       "\n",
       "    .dataframe thead th {\n",
       "        text-align: right;\n",
       "    }\n",
       "</style>\n",
       "<table border=\"1\" class=\"dataframe\">\n",
       "  <thead>\n",
       "    <tr style=\"text-align: right;\">\n",
       "      <th></th>\n",
       "      <th>location</th>\n",
       "      <th>citation_date</th>\n",
       "      <th>firstpost_date</th>\n",
       "      <th>tweet</th>\n",
       "    </tr>\n",
       "  </thead>\n",
       "  <tbody>\n",
       "    <tr>\n",
       "      <th>1</th>\n",
       "      <td>Redmond, WA</td>\n",
       "      <td>1421259536</td>\n",
       "      <td>1419864008</td>\n",
       "      <td>twelfth dogs are ready! #gohawks #dogslife htt...</td>\n",
       "    </tr>\n",
       "    <tr>\n",
       "      <th>2</th>\n",
       "      <td>Seattle</td>\n",
       "      <td>1421468519</td>\n",
       "      <td>1419881240</td>\n",
       "      <td>\"Oh no big deal, just NFC West Champs and the ...</td>\n",
       "    </tr>\n",
       "    <tr>\n",
       "      <th>5</th>\n",
       "      <td>McChord AFB, WA</td>\n",
       "      <td>1421468176</td>\n",
       "      <td>1420042851</td>\n",
       "      <td>@FiveThirtyEight #GoHawks. Keep your eyes on t...</td>\n",
       "    </tr>\n",
       "    <tr>\n",
       "      <th>6</th>\n",
       "      <td>Washington state</td>\n",
       "      <td>1421468144</td>\n",
       "      <td>1420052779</td>\n",
       "      <td>One of my Favorite Hawk logos that went around...</td>\n",
       "    </tr>\n",
       "    <tr>\n",
       "      <th>11</th>\n",
       "      <td>Greater Seattle Area</td>\n",
       "      <td>1421467885</td>\n",
       "      <td>1420218026</td>\n",
       "      <td>If they pass on you... pass on them #GoHawks 😁...</td>\n",
       "    </tr>\n",
       "  </tbody>\n",
       "</table>\n",
       "</div>"
      ],
      "text/plain": [
       "                location  citation_date  firstpost_date  \\\n",
       "1            Redmond, WA     1421259536      1419864008   \n",
       "2                Seattle     1421468519      1419881240   \n",
       "5        McChord AFB, WA     1421468176      1420042851   \n",
       "6       Washington state     1421468144      1420052779   \n",
       "11  Greater Seattle Area     1421467885      1420218026   \n",
       "\n",
       "                                                tweet  \n",
       "1   twelfth dogs are ready! #gohawks #dogslife htt...  \n",
       "2   \"Oh no big deal, just NFC West Champs and the ...  \n",
       "5   @FiveThirtyEight #GoHawks. Keep your eyes on t...  \n",
       "6   One of my Favorite Hawk logos that went around...  \n",
       "11  If they pass on you... pass on them #GoHawks 😁...  "
      ]
     },
     "execution_count": 8,
     "metadata": {},
     "output_type": "execute_result"
    }
   ],
   "source": [
    "df.head()"
   ]
  },
  {
   "cell_type": "code",
   "execution_count": 13,
   "metadata": {},
   "outputs": [],
   "source": [
    "sens=[]\n",
    "for row in df.itertuples(2):\n",
    "    date = row.citation_date\n",
    "    dt = datetime.datetime.fromtimestamp(date, pst_tz)\n",
    "    day = dt.day\n",
    "    month = dt.month\n",
    "    time = dt.hour\n",
    "    if day==1 and month==2 and time>=18:\n",
    "        text = row.tweet            \n",
    "        text = text.replace(\"@\",\"\")\n",
    "        text = text.replace(\"\\n\", \" \")\n",
    "        text = re.sub(r'[^\\x00-\\x7F]+',' ', text)\n",
    "        blob = TextBlob(text)\n",
    "        tweet_spt = blob.split(\" \")\n",
    "        words=[]\n",
    "        for word in tweet_spt:\n",
    "            if word.startswith(\"http\") or word.startswith(\"#\"):\n",
    "                pass\n",
    "            else:\n",
    "                words.append(word)\n",
    "        var=\"\"\n",
    "        for word in words:\n",
    "            var = var + word + \" \"  \n",
    "        var.strip()\n",
    "        sens.append(var)\n",
    "                        \n"
   ]
  },
  {
   "cell_type": "code",
   "execution_count": 17,
   "metadata": {},
   "outputs": [],
   "source": [
    "def sentiFunc(line):\n",
    "    stop_words = set(stopwords.words('english'))\n",
    "    tks = word_tokenize(line)\n",
    "    filtered_sent = [w for w in tks if not w in stop_words]\n",
    "    p=n=0\n",
    "    for word in filtered_sent:\n",
    "        if swn.senti_synsets(word):\n",
    "            ss_set = list(swn.senti_synsets(word))[0]\n",
    "            if ss_set:\n",
    "                p = p+ss_set.pos_score()\n",
    "                n = n+ss_set.neg_score()\n",
    "\n",
    "    return p, n"
   ]
  },
  {
   "cell_type": "code",
   "execution_count": null,
   "metadata": {},
   "outputs": [],
   "source": []
  },
  {
   "cell_type": "code",
   "execution_count": null,
   "metadata": {},
   "outputs": [],
   "source": [
    "p_c=0\n",
    "n_c=0\n",
    "p_val=0\n",
    "n_val=0\n",
    "values=[]\n",
    "count=0\n",
    "for i in range(0, len(sens)):\n",
    "    pos, neg = sentiFunc(sens[i])\n",
    "    if pos > neg:\n",
    "        p_c+=1\n",
    "        values.append(1)\n",
    "    else:\n",
    "        n_c+=1\n",
    "        values.append(-1)\n",
    "plt.bar(range(0, len(values)), values, edgecolor='none')\n",
    "plt.xlabel(\"# of Sentiment Words\")\n",
    "plt.ylabel(\"Value of Sentiment\")\n",
    "plt.title(\"Value of sentiment per sentiment word\")\n",
    "plt.show()"
   ]
  }
 ],
 "metadata": {
  "kernelspec": {
   "display_name": "Python 3",
   "language": "python",
   "name": "python3"
  },
  "language_info": {
   "codemirror_mode": {
    "name": "ipython",
    "version": 3
   },
   "file_extension": ".py",
   "mimetype": "text/x-python",
   "name": "python",
   "nbconvert_exporter": "python",
   "pygments_lexer": "ipython3",
   "version": "3.6.5"
  }
 },
 "nbformat": 4,
 "nbformat_minor": 2
}
