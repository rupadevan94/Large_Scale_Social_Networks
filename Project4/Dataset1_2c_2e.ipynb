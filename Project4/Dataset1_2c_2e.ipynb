{
 "cells": [
  {
   "cell_type": "code",
   "execution_count": 52,
   "metadata": {},
   "outputs": [],
   "source": [
    "#2c\n",
    "from matplotlib import pyplot as plt\n",
    "from sklearn import preprocessing\n",
    "from sklearn.model_selection import KFold\n",
    "from sklearn.metrics import mean_squared_error\n",
    "from math import sqrt\n",
    "import pandas as pd\n",
    "import warnings\n",
    "warnings.simplefilter(action='ignore', category=FutureWarning)\n",
    "from sklearn.neural_network import MLPRegressor\n",
    "from sklearn.preprocessing import LabelEncoder\n",
    "from sklearn.preprocessing import OneHotEncoder\n",
    "import matplotlib.pyplot as plt\n",
    "import numpy as np\n",
    "from sklearn.model_selection import train_test_split"
   ]
  },
  {
   "cell_type": "code",
   "execution_count": 23,
   "metadata": {},
   "outputs": [
    {
     "name": "stdout",
     "output_type": "stream",
     "text": [
      "[1 'Monday' 1 'work_flow_3' 'File_21']\n",
      "(18588, 5)\n"
     ]
    },
    {
     "name": "stderr",
     "output_type": "stream",
     "text": [
      "/Users/poojajn/anaconda3/lib/python3.6/site-packages/ipykernel_launcher.py:29: DeprecationWarning:\n",
      "\n",
      "\n",
      ".ix is deprecated. Please use\n",
      ".loc for label based indexing or\n",
      ".iloc for positional indexing\n",
      "\n",
      "See the documentation here:\n",
      "http://pandas.pydata.org/pandas-docs/stable/indexing.html#ix-indexer-is-deprecated\n",
      "\n"
     ]
    }
   ],
   "source": [
    "#2c\n",
    "weekdays_index = {'Monday':1, 'Tuesday':2, 'Wednesday':3, 'Thursday':4, 'Friday':5, 'Saturday':6, 'Sunday':7}\n",
    "feature_names = ['Week', 'DayOfWeek','BackupStartTime', 'WorkFlowID', 'Filename','SizeOfBackup','BackupTime']\n",
    "df = pd.read_csv('/Applications/EE 219/Project4/network_backup_dataset.csv', names = feature_names, header = 0)\n",
    "df.drop(6)\n",
    "y = np.asarray(df['SizeOfBackup'].values, dtype=np.float)\n",
    "def weekday_enc(days):\n",
    "    result = []\n",
    "    for day in days:\n",
    "        result.append(weekdays_index[day])\n",
    "    return result\n",
    "def file_enc(files):\n",
    "    result = []\n",
    "    for file in files:\n",
    "        a,b = file.split('_')\n",
    "        result.append(int(b))\n",
    "    return result\n",
    "def workflow_enc(work_flows):\n",
    "    result = []\n",
    "    for wf in work_flows:\n",
    "        a,b,c = wf.split('_')\n",
    "        result.append(int(c))\n",
    "    return result\n",
    "X = df.ix[:, [0, 1, 2, 3, 4]].values\n",
    "print(X[9])\n",
    "X[:, 1] = weekday_enc(X[:, 1])\n",
    "X[:, 3] = workflow_enc(X[:, 3])\n",
    "X[:, 4] = file_enc(X[:, 4])\n",
    "print(X.shape)"
   ]
  },
  {
   "cell_type": "code",
   "execution_count": 29,
   "metadata": {},
   "outputs": [
    {
     "data": {
      "text/plain": [
       "(18588, 63)"
      ]
     },
     "execution_count": 29,
     "metadata": {},
     "output_type": "execute_result"
    }
   ],
   "source": [
    "t_data = pd.DataFrame(X).astype('float64')\n",
    "onehot_encoded = []\n",
    "label_enc = LabelEncoder()\n",
    "integer_enc = t_data.apply(label_enc.fit_transform)\n",
    "onehot_encoder = OneHotEncoder(sparse=False)\n",
    "onehot_encoded = onehot_encoder.fit_transform(integer_enc)\n",
    "onehot_encoded.shape"
   ]
  },
  {
   "cell_type": "code",
   "execution_count": 41,
   "metadata": {},
   "outputs": [
    {
     "name": "stdout",
     "output_type": "stream",
     "text": [
      "Activation Function relu Hidden Layer Size 2 Train RMSE: 0.09036085218237849 Test RMSE: 0.11952559648014308\n",
      "Activation Function relu Hidden Layer Size 5 Train RMSE: 0.07327972790315408 Test RMSE: 0.09168437943488364\n",
      "Activation Function relu Hidden Layer Size 10 Train RMSE: 0.052700282170622434 Test RMSE: 0.08408323975690656\n",
      "Activation Function relu Hidden Layer Size 50 Train RMSE: 0.026217465464027766 Test RMSE: 0.036487382338639254\n",
      "Activation Function relu Hidden Layer Size 100 Train RMSE: 0.021962233859063714 Test RMSE: 0.03813168413274827\n",
      "Activation Function relu Hidden Layer Size 150 Train RMSE: 0.019367599983546868 Test RMSE: 0.03555855118551389\n",
      "Activation Function relu Hidden Layer Size 200 Train RMSE: 0.01829596459363709 Test RMSE: 0.03799380667195311\n",
      "Activation Function relu Hidden Layer Size 250 Train RMSE: 0.017102184074322464 Test RMSE: 0.032574800239795636\n",
      "Activation Function relu Hidden Layer Size 300 Train RMSE: 0.016763752318674892 Test RMSE: 0.030124054378774117\n",
      "Activation Function relu Hidden Layer Size 350 Train RMSE: 0.015943900018620793 Test RMSE: 0.030316167138914024\n",
      "Activation Function relu Hidden Layer Size 400 Train RMSE: 0.015443942551613004 Test RMSE: 0.03259977587280875\n",
      "Activation Function relu Hidden Layer Size 450 Train RMSE: 0.01568436743351774 Test RMSE: 0.029245141117488528\n",
      "Activation Function relu Hidden Layer Size 500 Train RMSE: 0.014887757547235004 Test RMSE: 0.02811875842877833\n",
      "Activation Function relu Hidden Layer Size 550 Train RMSE: 0.014388852787733247 Test RMSE: 0.02661989182664485\n",
      "Activation Function relu Hidden Layer Size 600 Train RMSE: 0.014102326625407984 Test RMSE: 0.029062053946715082\n",
      "Activation Function logistic Hidden Layer Size 2 Train RMSE: 0.0907291189869602 Test RMSE: 0.09326286006347054\n",
      "Activation Function logistic Hidden Layer Size 5 Train RMSE: 0.08868591851443906 Test RMSE: 0.09114242271414517\n",
      "Activation Function logistic Hidden Layer Size 10 Train RMSE: 0.08851204764270985 Test RMSE: 0.09263176039540046\n",
      "Activation Function logistic Hidden Layer Size 50 Train RMSE: 0.08853635053337341 Test RMSE: 0.09024788521771938\n",
      "Activation Function logistic Hidden Layer Size 100 Train RMSE: 0.08876762032151506 Test RMSE: 0.09055361408276826\n",
      "Activation Function logistic Hidden Layer Size 150 Train RMSE: 0.0886286833780506 Test RMSE: 0.08959671117508135\n",
      "Activation Function logistic Hidden Layer Size 200 Train RMSE: 0.08883453677735474 Test RMSE: 0.09056316610426385\n",
      "Activation Function logistic Hidden Layer Size 250 Train RMSE: 0.08917553455234863 Test RMSE: 0.09111925616901562\n",
      "Activation Function logistic Hidden Layer Size 300 Train RMSE: 0.08940705892078196 Test RMSE: 0.09270107483841929\n",
      "Activation Function logistic Hidden Layer Size 350 Train RMSE: 0.09041749500621052 Test RMSE: 0.09069059592747404\n",
      "Activation Function logistic Hidden Layer Size 400 Train RMSE: 0.0897337540987497 Test RMSE: 0.09229649218747038\n",
      "Activation Function logistic Hidden Layer Size 450 Train RMSE: 0.08934528910542675 Test RMSE: 0.09226241156892691\n",
      "Activation Function logistic Hidden Layer Size 500 Train RMSE: 0.09028464274695357 Test RMSE: 0.09483719943179222\n",
      "Activation Function logistic Hidden Layer Size 550 Train RMSE: 0.090212771163978 Test RMSE: 0.09308197996227416\n",
      "Activation Function logistic Hidden Layer Size 600 Train RMSE: 0.09272128003294693 Test RMSE: 0.09715319582378838\n",
      "Activation Function tanh Hidden Layer Size 2 Train RMSE: 0.09059923554020402 Test RMSE: 0.13442570413091828\n",
      "Activation Function tanh Hidden Layer Size 5 Train RMSE: 0.08981570047159045 Test RMSE: 0.10733668678482444\n",
      "Activation Function tanh Hidden Layer Size 10 Train RMSE: 0.0895793293163778 Test RMSE: 0.11622988670482497\n",
      "Activation Function tanh Hidden Layer Size 50 Train RMSE: 0.0717098432065374 Test RMSE: 0.07993381799072233\n",
      "Activation Function tanh Hidden Layer Size 100 Train RMSE: 0.063930574179722 Test RMSE: 0.06969843316755193\n",
      "Activation Function tanh Hidden Layer Size 150 Train RMSE: 0.07841302606120806 Test RMSE: 0.09085810989309365\n",
      "Activation Function tanh Hidden Layer Size 200 Train RMSE: 0.08278848250705753 Test RMSE: 0.0994073126702278\n",
      "Activation Function tanh Hidden Layer Size 250 Train RMSE: 0.08612952934671934 Test RMSE: 0.09517545252685858\n",
      "Activation Function tanh Hidden Layer Size 300 Train RMSE: 0.09052670933658717 Test RMSE: 0.10540967821431355\n",
      "Activation Function tanh Hidden Layer Size 350 Train RMSE: 0.09126163054775269 Test RMSE: 0.09814196938521834\n",
      "Activation Function tanh Hidden Layer Size 400 Train RMSE: 0.09206648479431546 Test RMSE: 0.09790094991496437\n",
      "Activation Function tanh Hidden Layer Size 450 Train RMSE: 0.09084163387420718 Test RMSE: 0.09904086757846084\n",
      "Activation Function tanh Hidden Layer Size 500 Train RMSE: 0.09245005921576996 Test RMSE: 0.09510047928840407\n",
      "Activation Function tanh Hidden Layer Size 550 Train RMSE: 0.09242956898215937 Test RMSE: 0.09722783619180461\n",
      "Activation Function tanh Hidden Layer Size 600 Train RMSE: 0.09266964444155944 Test RMSE: 0.09686197547099902\n"
     ]
    }
   ],
   "source": [
    "activation_functions = ['relu', 'logistic', 'tanh']\n",
    "hidden_layer_size = [2, 5, 10, 50, 100, 150, 200, 250, 300, 350, 400, 450, 500, 550, 600]\n",
    "\n",
    "rmse_relu = np.zeros(shape=(len(hidden_layer_size),2))\n",
    "rmse_logistic = np.zeros(shape=(len(hidden_layer_size),2))\n",
    "rmse_tanh = np.zeros(shape=(len(hidden_layer_size),2))\n",
    "\n",
    "for activation_func in activation_functions:\n",
    "    train_rmse_values = []\n",
    "    test_rmse_values = []\n",
    "    for layer_size in hidden_layer_size:\n",
    "        temp_train_rmse = 0\n",
    "        temp_test_rmse = 0\n",
    "        kf = KFold(n_splits=10)\n",
    "        model_cv = MLPRegressor(hidden_layer_sizes=(layer_size,),activation=activation_func)\n",
    "        for train, test in kf.split(onehot_encoded,y):\n",
    "            model_cv.fit(onehot_encoded[train],y[train])\n",
    "            y_pred_train = model_cv.predict(onehot_encoded[train])\n",
    "            y_pred_test = model_cv.predict(onehot_encoded[test])\n",
    "            temp_train_rmse += sqrt(mean_squared_error(y[train],y_pred_train))\n",
    "            temp_test_rmse += sqrt(mean_squared_error(y[test],y_pred_test))\n",
    "        val1 = temp_train_rmse/10.0\n",
    "        val2 = temp_test_rmse/10.0\n",
    "        print(\"Activation Function \"+ activation_func+\" Hidden Layer Size \" + str(layer_size)+\" Train RMSE: \"+str(val1) + \" Test RMSE: \" + str(val2))\n",
    "        train_rmse_values.append(val1)\n",
    "        test_rmse_values.append(val2)\n",
    "    if(activation_func=='relu'):\n",
    "        rmse_relu[:,0] = np.array(train_rmse_values)\n",
    "        rmse_relu[:,1] = np.array(test_rmse_values)\n",
    "    elif(activation_func=='logistic'):\n",
    "        rmse_logistic[:,0] = np.array(train_rmse_values)\n",
    "        rmse_logistic[:,1] = np.array(test_rmse_values)\n",
    "    else:\n",
    "        rmse_tanh[:,0] = np.array(train_rmse_values)\n",
    "        rmse_tanh[:,1] = np.array(test_rmse_values)"
   ]
  },
  {
   "cell_type": "code",
   "execution_count": 72,
   "metadata": {},
   "outputs": [],
   "source": [
    "def plot_graphs(model, X, y):\n",
    "    model.fit(X,y)\n",
    "    y_pred = model.predict(X)\n",
    "    residuals = y - y_pred\n",
    "    plt.scatter(y, y_pred, s = 0.5)\n",
    "    plt.xlabel(\"True Values\")\n",
    "    plt.ylabel(\"Predicted Values\")\n",
    "    plt.title(\"Predicted vs True Values\")\n",
    "    plt.show()\n",
    "    plt.scatter(y_pred, residuals, s = 0.5, color = 'green')\n",
    "    plt.xlabel(\"Predicted Values\")\n",
    "    plt.ylabel(\"Residues\")\n",
    "    plt.title(\"Residues vs Predicted Values\")\n",
    "    plt.show()"
   ]
  },
  {
   "cell_type": "code",
   "execution_count": 73,
   "metadata": {},
   "outputs": [
    {
     "data": {
      "image/png": "[encoded data removed]",
      "text/plain": [
       "<Figure size 432x288 with 1 Axes>"
      ]
     },
     "metadata": {},
     "output_type": "display_data"
    },
    {
     "data": {
      "image/png": "[encoded data removed]",
      "text/plain": [
       "<Figure size 432x288 with 1 Axes>"
      ]
     },
     "metadata": {},
     "output_type": "display_data"
    }
   ],
   "source": [
    "model = MLPRegressor(hidden_layer_sizes=(550,),activation=\"relu\")\n",
    "plot_graphs(model,onehot_encoded,y)"
   ]
  },
  {
   "cell_type": "code",
   "execution_count": 20,
   "metadata": {},
   "outputs": [
    {
     "data": {
      "text/plain": [
       "array([[1., 0.],\n",
       "       [2., 0.]])"
      ]
     },
     "execution_count": 20,
     "metadata": {},
     "output_type": "execute_result"
    }
   ],
   "source": [
    "rmse_relu_2"
   ]
  },
  {
   "cell_type": "code",
   "execution_count": 42,
   "metadata": {},
   "outputs": [
    {
     "data": {
      "text/plain": [
       "13"
      ]
     },
     "execution_count": 42,
     "metadata": {},
     "output_type": "execute_result"
    }
   ],
   "source": [
    "np.argmin(rmse_relu[:,1])"
   ]
  },
  {
   "cell_type": "code",
   "execution_count": 43,
   "metadata": {},
   "outputs": [
    {
     "data": {
      "text/plain": [
       "0.02661989182664485"
      ]
     },
     "execution_count": 43,
     "metadata": {},
     "output_type": "execute_result"
    }
   ],
   "source": [
    "rmse_relu[13,1]"
   ]
  },
  {
   "cell_type": "code",
   "execution_count": 44,
   "metadata": {},
   "outputs": [
    {
     "data": {
      "text/plain": [
       "550"
      ]
     },
     "execution_count": 44,
     "metadata": {},
     "output_type": "execute_result"
    }
   ],
   "source": [
    "hidden_layer_size[13]"
   ]
  },
  {
   "cell_type": "code",
   "execution_count": 45,
   "metadata": {},
   "outputs": [
    {
     "data": {
      "text/plain": [
       "5"
      ]
     },
     "execution_count": 45,
     "metadata": {},
     "output_type": "execute_result"
    }
   ],
   "source": [
    "np.argmin(rmse_logistic[:,1])"
   ]
  },
  {
   "cell_type": "code",
   "execution_count": 46,
   "metadata": {},
   "outputs": [
    {
     "data": {
      "text/plain": [
       "0.08959671117508135"
      ]
     },
     "execution_count": 46,
     "metadata": {},
     "output_type": "execute_result"
    }
   ],
   "source": [
    "rmse_logistic[5,1]"
   ]
  },
  {
   "cell_type": "code",
   "execution_count": 47,
   "metadata": {},
   "outputs": [
    {
     "data": {
      "text/plain": [
       "150"
      ]
     },
     "execution_count": 47,
     "metadata": {},
     "output_type": "execute_result"
    }
   ],
   "source": [
    "hidden_layer_size[5]"
   ]
  },
  {
   "cell_type": "code",
   "execution_count": 48,
   "metadata": {},
   "outputs": [
    {
     "data": {
      "text/plain": [
       "4"
      ]
     },
     "execution_count": 48,
     "metadata": {},
     "output_type": "execute_result"
    }
   ],
   "source": [
    "np.argmin(rmse_tanh[:,1])"
   ]
  },
  {
   "cell_type": "code",
   "execution_count": 49,
   "metadata": {},
   "outputs": [
    {
     "data": {
      "text/plain": [
       "0.06969843316755193"
      ]
     },
     "execution_count": 49,
     "metadata": {},
     "output_type": "execute_result"
    }
   ],
   "source": [
    "rmse_tanh[4,1]"
   ]
  },
  {
   "cell_type": "code",
   "execution_count": 50,
   "metadata": {},
   "outputs": [
    {
     "data": {
      "text/plain": [
       "100"
      ]
     },
     "execution_count": 50,
     "metadata": {},
     "output_type": "execute_result"
    }
   ],
   "source": [
    "hidden_layer_size[4]"
   ]
  },
  {
   "cell_type": "code",
   "execution_count": 70,
   "metadata": {},
   "outputs": [
    {
     "data": {
      "text/plain": [
       "Text(0.5, 1.0, 'RMSE vs Hidden Unit Size')"
      ]
     },
     "execution_count": 70,
     "metadata": {},
     "output_type": "execute_result"
    },
    {
     "data": {
      "image/png": "[encoded data removed]",
      "text/plain": [
       "<Figure size 432x288 with 1 Axes>"
      ]
     },
     "metadata": {},
     "output_type": "display_data"
    }
   ],
   "source": [
    "plt.plot(hidden_layer_size, rmse_relu[:,1], label='relu')\n",
    "plt.plot(hidden_layer_size, rmse_logistic[:,1], label='logistic')\n",
    "plt.plot(hidden_layer_size, rmse_tanh[:,1], label='tanh')\n",
    "plt.legend(loc='upper right')\n",
    "plt.xlabel(\"Hidden Unit Size\")\n",
    "plt.ylabel(\"Test RMSE\")\n",
    "plt.title(\"RMSE vs Hidden Unit Size\")"
   ]
  },
  {
   "cell_type": "code",
   "execution_count": 74,
   "metadata": {},
   "outputs": [
    {
     "name": "stdout",
     "output_type": "stream",
     "text": [
      "Index(['Week #', 'Day of Week', 'Backup Start Time - Hour of Day',\n",
      "       'Work-Flow-ID', 'File Name', 'Size of Backup (GB)',\n",
      "       'Backup Time (hour)'],\n",
      "      dtype='object')\n"
     ]
    }
   ],
   "source": [
    "#2e\n",
    "data = pd.read_csv(\"network_backup_dataset.csv\");\n",
    "print(data.columns)\n",
    "X = data[['Week #', 'Day of Week', 'Backup Start Time - Hour of Day','Work-Flow-ID', 'File Name']].values\n",
    "y = data['Size of Backup (GB)'].values\n",
    "encode_col = [0, 1, 2, 3, 4]\n",
    "encoders = {}\n",
    "for col in encode_col:\n",
    "    le = preprocessing.LabelEncoder()\n",
    "    le.fit(X[:,col])\n",
    "    X[:,col] = le.transform(X[:,col])\n",
    "    encoders[col] = le"
   ]
  },
  {
   "cell_type": "code",
   "execution_count": 66,
   "metadata": {},
   "outputs": [
    {
     "name": "stdout",
     "output_type": "stream",
     "text": [
      "Neighbor Size 1 Train RMSE: 0.0 Test RMSE: 0.076720291090895\n",
      "Neighbor Size 2 Train RMSE: 0.04003217717391043 Test RMSE: 0.07252656159722706\n",
      "Neighbor Size 3 Train RMSE: 0.036798753783884634 Test RMSE: 0.070365517474963\n",
      "Neighbor Size 4 Train RMSE: 0.03692803955035499 Test RMSE: 0.07120756055062623\n",
      "Neighbor Size 5 Train RMSE: 0.03822382906980101 Test RMSE: 0.07148501019297168\n",
      "Neighbor Size 6 Train RMSE: 0.03922978810987694 Test RMSE: 0.0723866404076951\n",
      "Neighbor Size 7 Train RMSE: 0.04028648090514872 Test RMSE: 0.07255374818770728\n",
      "Neighbor Size 8 Train RMSE: 0.04299919230229342 Test RMSE: 0.07324126705075314\n",
      "Neighbor Size 9 Train RMSE: 0.04610231554344308 Test RMSE: 0.07432873294440182\n",
      "Neighbor Size 10 Train RMSE: 0.04924096542040224 Test RMSE: 0.07510277937793458\n",
      "Neighbor Size 11 Train RMSE: 0.05179916012795891 Test RMSE: 0.07591499311060164\n",
      "Neighbor Size 12 Train RMSE: 0.054058027635190256 Test RMSE: 0.07687287441242155\n",
      "Neighbor Size 13 Train RMSE: 0.055902786207289945 Test RMSE: 0.07749788091689874\n",
      "Neighbor Size 14 Train RMSE: 0.0573282031895348 Test RMSE: 0.0780353698436867\n",
      "Neighbor Size 15 Train RMSE: 0.05860260824122889 Test RMSE: 0.07882187699443544\n",
      "Neighbor Size 16 Train RMSE: 0.05964983510823153 Test RMSE: 0.07959900877027216\n",
      "Neighbor Size 17 Train RMSE: 0.0606570144225884 Test RMSE: 0.08001268668705394\n",
      "Neighbor Size 18 Train RMSE: 0.06152113102919192 Test RMSE: 0.0805233398846971\n",
      "Neighbor Size 19 Train RMSE: 0.062408429981599435 Test RMSE: 0.0809228725974921\n",
      "Neighbor Size 20 Train RMSE: 0.06320976703696443 Test RMSE: 0.08141994683053083\n",
      "Neighbor Size 21 Train RMSE: 0.06394506078713537 Test RMSE: 0.08131814008409047\n",
      "Neighbor Size 22 Train RMSE: 0.06470359236873138 Test RMSE: 0.08152229047931847\n",
      "Neighbor Size 23 Train RMSE: 0.06545305867861562 Test RMSE: 0.08157433009722209\n",
      "Neighbor Size 24 Train RMSE: 0.06623458708767756 Test RMSE: 0.08148074699250958\n",
      "Neighbor Size 25 Train RMSE: 0.06691043343544442 Test RMSE: 0.08151156458764766\n",
      "Neighbor Size 26 Train RMSE: 0.0676221551215204 Test RMSE: 0.08155499391343426\n",
      "Neighbor Size 27 Train RMSE: 0.06824372726524412 Test RMSE: 0.08146308151596879\n",
      "Neighbor Size 28 Train RMSE: 0.06885894948012236 Test RMSE: 0.08141999970629908\n",
      "Neighbor Size 29 Train RMSE: 0.06946526819384372 Test RMSE: 0.08133296040558462\n",
      "Neighbor Size 30 Train RMSE: 0.07007423121184099 Test RMSE: 0.0811166137931673\n",
      "Neighbor Size 31 Train RMSE: 0.07063211038981233 Test RMSE: 0.0809875107062879\n",
      "Neighbor Size 32 Train RMSE: 0.07114817014514377 Test RMSE: 0.08089823377911368\n",
      "Neighbor Size 33 Train RMSE: 0.0715531353585852 Test RMSE: 0.08064471597940426\n",
      "Neighbor Size 34 Train RMSE: 0.07203167886779759 Test RMSE: 0.08068037362930282\n",
      "Neighbor Size 35 Train RMSE: 0.07241035124607657 Test RMSE: 0.0806008378313887\n",
      "Neighbor Size 36 Train RMSE: 0.0727952680881086 Test RMSE: 0.08043846700800653\n",
      "Neighbor Size 37 Train RMSE: 0.07317282070737398 Test RMSE: 0.08042407353217593\n",
      "Neighbor Size 38 Train RMSE: 0.07346961514378429 Test RMSE: 0.08036431158701172\n",
      "Neighbor Size 39 Train RMSE: 0.07376500976179527 Test RMSE: 0.08017952571069566\n",
      "Neighbor Size 40 Train RMSE: 0.07409441621878422 Test RMSE: 0.08006003459977325\n",
      "Neighbor Size 41 Train RMSE: 0.07433192649371846 Test RMSE: 0.08003928798412241\n",
      "Neighbor Size 42 Train RMSE: 0.074572595672853 Test RMSE: 0.07994171100486104\n",
      "Neighbor Size 43 Train RMSE: 0.07480569824554781 Test RMSE: 0.07995364090496691\n",
      "Neighbor Size 44 Train RMSE: 0.07501132639243875 Test RMSE: 0.07985004628499469\n",
      "Neighbor Size 45 Train RMSE: 0.07520854551300067 Test RMSE: 0.07978955056374518\n",
      "Neighbor Size 46 Train RMSE: 0.07542077960608606 Test RMSE: 0.07974811654560104\n",
      "Neighbor Size 47 Train RMSE: 0.07558203574919652 Test RMSE: 0.0797074094437244\n",
      "Neighbor Size 48 Train RMSE: 0.07571177337753345 Test RMSE: 0.07971875497586366\n",
      "Neighbor Size 49 Train RMSE: 0.0758053913525696 Test RMSE: 0.07965998625661987\n",
      "Neighbor Size 50 Train RMSE: 0.0758948744995518 Test RMSE: 0.07972693948910511\n",
      "Neighbor Size 51 Train RMSE: 0.07596978788933904 Test RMSE: 0.07960120981386083\n",
      "Neighbor Size 52 Train RMSE: 0.07603981332540502 Test RMSE: 0.07965676698744753\n",
      "Neighbor Size 53 Train RMSE: 0.07605680736754619 Test RMSE: 0.07971368131009392\n",
      "Neighbor Size 54 Train RMSE: 0.07614396585540746 Test RMSE: 0.0797880766877492\n",
      "Neighbor Size 55 Train RMSE: 0.07621817964562015 Test RMSE: 0.07979930367591344\n",
      "Neighbor Size 56 Train RMSE: 0.07627730121924939 Test RMSE: 0.07976212642554541\n",
      "Neighbor Size 57 Train RMSE: 0.07633373116301707 Test RMSE: 0.07982643316414113\n",
      "Neighbor Size 58 Train RMSE: 0.0764345724734963 Test RMSE: 0.07993648751119783\n",
      "Neighbor Size 59 Train RMSE: 0.0765199860759054 Test RMSE: 0.0801198974344368\n",
      "Neighbor Size 60 Train RMSE: 0.07658829289864905 Test RMSE: 0.08024455989266067\n",
      "Neighbor Size 61 Train RMSE: 0.07659786422881729 Test RMSE: 0.08035487254915245\n",
      "Neighbor Size 62 Train RMSE: 0.0766580312472063 Test RMSE: 0.08040919384931552\n",
      "Neighbor Size 63 Train RMSE: 0.07671003933933071 Test RMSE: 0.08056141536354282\n",
      "Neighbor Size 64 Train RMSE: 0.07675761945422739 Test RMSE: 0.080606046322465\n",
      "Neighbor Size 65 Train RMSE: 0.07677273039711059 Test RMSE: 0.08067126794239483\n",
      "Neighbor Size 66 Train RMSE: 0.07680429186585601 Test RMSE: 0.08080756970163641\n",
      "Neighbor Size 67 Train RMSE: 0.07683188330171238 Test RMSE: 0.08095403830258537\n",
      "Neighbor Size 68 Train RMSE: 0.07687593527553237 Test RMSE: 0.0810613342967183\n",
      "Neighbor Size 69 Train RMSE: 0.07691675579403273 Test RMSE: 0.0811785811170048\n",
      "Neighbor Size 70 Train RMSE: 0.07696508355624421 Test RMSE: 0.08129331551350952\n",
      "Neighbor Size 71 Train RMSE: 0.07700161051363227 Test RMSE: 0.08137671533251195\n",
      "Neighbor Size 72 Train RMSE: 0.07704940250329408 Test RMSE: 0.08157481628725402\n",
      "Neighbor Size 73 Train RMSE: 0.0771031715800668 Test RMSE: 0.08171004875556864\n",
      "Neighbor Size 74 Train RMSE: 0.07717445516750686 Test RMSE: 0.08177647808424161\n",
      "Neighbor Size 75 Train RMSE: 0.07726192337463965 Test RMSE: 0.0818823797774707\n",
      "Neighbor Size 76 Train RMSE: 0.0773324338684172 Test RMSE: 0.08203678833452364\n",
      "Neighbor Size 77 Train RMSE: 0.07740104255496265 Test RMSE: 0.08217513557844029\n",
      "Neighbor Size 78 Train RMSE: 0.07746253262527865 Test RMSE: 0.0822376269045877\n",
      "Neighbor Size 79 Train RMSE: 0.07749598926373266 Test RMSE: 0.0823248872433775\n",
      "Neighbor Size 80 Train RMSE: 0.07755784646645841 Test RMSE: 0.08244387176592424\n",
      "Neighbor Size 81 Train RMSE: 0.07762124360135123 Test RMSE: 0.08255607453196773\n",
      "Neighbor Size 82 Train RMSE: 0.07767130060524646 Test RMSE: 0.08259295942804534\n",
      "Neighbor Size 83 Train RMSE: 0.07773975909139644 Test RMSE: 0.08266982951895362\n",
      "Neighbor Size 84 Train RMSE: 0.07782568978739665 Test RMSE: 0.08274287465944374\n",
      "Neighbor Size 85 Train RMSE: 0.07789373237131872 Test RMSE: 0.08284665327569891\n",
      "Neighbor Size 86 Train RMSE: 0.07798915518402308 Test RMSE: 0.08288794995002154\n",
      "Neighbor Size 87 Train RMSE: 0.07805912079409344 Test RMSE: 0.08296758907163496\n",
      "Neighbor Size 88 Train RMSE: 0.07808167542252073 Test RMSE: 0.08301066753170998\n",
      "Neighbor Size 89 Train RMSE: 0.07814366817664102 Test RMSE: 0.08312793344199312\n",
      "Neighbor Size 90 Train RMSE: 0.07817987936587403 Test RMSE: 0.08320836130368321\n",
      "Neighbor Size 91 Train RMSE: 0.0782265312086868 Test RMSE: 0.0832780563053683\n",
      "Neighbor Size 92 Train RMSE: 0.0782825212193224 Test RMSE: 0.08332324198918228\n",
      "Neighbor Size 93 Train RMSE: 0.07833730607673553 Test RMSE: 0.08340714416775027\n",
      "Neighbor Size 94 Train RMSE: 0.07838510130389038 Test RMSE: 0.08344947817607505\n",
      "Neighbor Size 95 Train RMSE: 0.07842277110897657 Test RMSE: 0.08353325669272316\n",
      "Neighbor Size 96 Train RMSE: 0.07846812305010112 Test RMSE: 0.08358779780942692\n",
      "Neighbor Size 97 Train RMSE: 0.07850390979962579 Test RMSE: 0.08368493223482767\n",
      "Neighbor Size 98 Train RMSE: 0.07853987610226001 Test RMSE: 0.08374966173591178\n",
      "Neighbor Size 99 Train RMSE: 0.07858658974726987 Test RMSE: 0.08380693885811956\n"
     ]
    }
   ],
   "source": [
    "#2e\n",
    "from sklearn.neighbors import KNeighborsRegressor\n",
    "train_rmse_values = []\n",
    "test_rmse_values = []\n",
    "neighbor_size = range(1,100)\n",
    "for n_size in neighbor_size:\n",
    "    temp_train_rmse = 0\n",
    "    temp_test_rmse = 0\n",
    "    kf = KFold(n_splits=10)\n",
    "    model_cv = KNeighborsRegressor(n_neighbors=n_size)\n",
    "    for train, test in kf.split(X,y):\n",
    "        model_cv.fit(X[train],y[train])\n",
    "        y_pred_train = model_cv.predict(X[train])\n",
    "        y_pred_test = model_cv.predict(X[test])\n",
    "        temp_train_rmse += sqrt(mean_squared_error(y[train],y_pred_train))\n",
    "        temp_test_rmse += sqrt(mean_squared_error(y[test],y_pred_test))\n",
    "    val1 = temp_train_rmse/10.0\n",
    "    val2 = temp_test_rmse/10.0\n",
    "    print(\"Neighbor Size \"+ str(n_size) + \" Train RMSE: \"+str(val1) + \" Test RMSE: \" + str(val2))\n",
    "    train_rmse_values.append(val1)\n",
    "    test_rmse_values.append(val2)\n"
   ]
  },
  {
   "cell_type": "code",
   "execution_count": 67,
   "metadata": {},
   "outputs": [
    {
     "data": {
      "text/plain": [
       "2"
      ]
     },
     "execution_count": 67,
     "metadata": {},
     "output_type": "execute_result"
    }
   ],
   "source": [
    "np.argmin(test_rmse_values)"
   ]
  },
  {
   "cell_type": "code",
   "execution_count": 68,
   "metadata": {},
   "outputs": [
    {
     "data": {
      "text/plain": [
       "3"
      ]
     },
     "execution_count": 68,
     "metadata": {},
     "output_type": "execute_result"
    }
   ],
   "source": [
    "neighbor_size[2]"
   ]
  },
  {
   "cell_type": "code",
   "execution_count": 75,
   "metadata": {},
   "outputs": [
    {
     "data": {
      "image/png": "[encoded data removed]",
      "text/plain": [
       "<Figure size 432x288 with 1 Axes>"
      ]
     },
     "metadata": {},
     "output_type": "display_data"
    },
    {
     "data": {
      "image/png": "[encoded data removed]",
      "text/plain": [
       "<Figure size 432x288 with 1 Axes>"
      ]
     },
     "metadata": {},
     "output_type": "display_data"
    }
   ],
   "source": [
    "model = KNeighborsRegressor(n_neighbors=3)\n",
    "plot_graphs(model,X,y)"
   ]
  },
  {
   "cell_type": "code",
   "execution_count": 76,
   "metadata": {},
   "outputs": [
    {
     "data": {
      "text/plain": [
       "range(1, 100)"
      ]
     },
     "execution_count": 76,
     "metadata": {},
     "output_type": "execute_result"
    }
   ],
   "source": [
    "neighbor_size"
   ]
  },
  {
   "cell_type": "code",
   "execution_count": 93,
   "metadata": {},
   "outputs": [],
   "source": [
    "col1 = np.array(neighbor_size)"
   ]
  },
  {
   "cell_type": "code",
   "execution_count": 83,
   "metadata": {},
   "outputs": [
    {
     "data": {
      "text/plain": [
       "(99,)"
      ]
     },
     "execution_count": 83,
     "metadata": {},
     "output_type": "execute_result"
    }
   ],
   "source": [
    "col2 = np.array(train_rmse_values)\n",
    "col2.shape"
   ]
  },
  {
   "cell_type": "code",
   "execution_count": 84,
   "metadata": {},
   "outputs": [
    {
     "data": {
      "text/plain": [
       "(99,)"
      ]
     },
     "execution_count": 84,
     "metadata": {},
     "output_type": "execute_result"
    }
   ],
   "source": [
    "col3 = np.array(test_rmse_values)\n",
    "col3.shape"
   ]
  },
  {
   "cell_type": "code",
   "execution_count": 87,
   "metadata": {},
   "outputs": [
    {
     "data": {
      "text/plain": [
       "(3, 99)"
      ]
     },
     "execution_count": 87,
     "metadata": {},
     "output_type": "execute_result"
    }
   ],
   "source": [
    "np.vstack((col1,col2,col3)).shape"
   ]
  },
  {
   "cell_type": "code",
   "execution_count": null,
   "metadata": {},
   "outputs": [],
   "source": []
  }
 ],
 "metadata": {
  "kernelspec": {
   "display_name": "Python 3",
   "language": "python",
   "name": "python3"
  },
  "language_info": {
   "codemirror_mode": {
    "name": "ipython",
    "version": 3
   },
   "file_extension": ".py",
   "mimetype": "text/x-python",
   "name": "python",
   "nbconvert_exporter": "python",
   "pygments_lexer": "ipython3",
   "version": "3.6.5"
  }
 },
 "nbformat": 4,
 "nbformat_minor": 2
}
